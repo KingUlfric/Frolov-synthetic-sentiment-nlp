{
  "cells": [
    {
      "cell_type": "code",
      "execution_count": null,
      "metadata": {
        "colab": {
          "base_uri": "https://localhost:8080/"
        },
        "id": "JYjKh_5xxv94",
        "outputId": "ce9b2c94-a257-488f-a0c5-e6a7373f2443"
      },
      "outputs": [
        {
          "output_type": "stream",
          "name": "stdout",
          "text": [
            "Requirement already satisfied: pip in /usr/local/lib/python3.11/dist-packages (25.0.1)\n"
          ]
        }
      ],
      "source": [
        "!pip install --upgrade pip"
      ]
    },
    {
      "cell_type": "code",
      "execution_count": null,
      "metadata": {
        "colab": {
          "base_uri": "https://localhost:8080/"
        },
        "id": "_JfE9SvaxwHw",
        "outputId": "031ea458-492c-48b7-89fd-bb9c29850847"
      },
      "outputs": [
        {
          "output_type": "stream",
          "name": "stdout",
          "text": [
            "Requirement already satisfied: tensorflow==2.15.0 in /usr/local/lib/python3.11/dist-packages (2.15.0)\n",
            "Requirement already satisfied: absl-py>=1.0.0 in /usr/local/lib/python3.11/dist-packages (from tensorflow==2.15.0) (1.4.0)\n",
            "Requirement already satisfied: astunparse>=1.6.0 in /usr/local/lib/python3.11/dist-packages (from tensorflow==2.15.0) (1.6.3)\n",
            "Requirement already satisfied: flatbuffers>=23.5.26 in /usr/local/lib/python3.11/dist-packages (from tensorflow==2.15.0) (25.2.10)\n",
            "Requirement already satisfied: gast!=0.5.0,!=0.5.1,!=0.5.2,>=0.2.1 in /usr/local/lib/python3.11/dist-packages (from tensorflow==2.15.0) (0.6.0)\n",
            "Requirement already satisfied: google-pasta>=0.1.1 in /usr/local/lib/python3.11/dist-packages (from tensorflow==2.15.0) (0.2.0)\n",
            "Requirement already satisfied: h5py>=2.9.0 in /usr/local/lib/python3.11/dist-packages (from tensorflow==2.15.0) (3.13.0)\n",
            "Requirement already satisfied: libclang>=13.0.0 in /usr/local/lib/python3.11/dist-packages (from tensorflow==2.15.0) (18.1.1)\n",
            "Requirement already satisfied: ml-dtypes~=0.2.0 in /usr/local/lib/python3.11/dist-packages (from tensorflow==2.15.0) (0.2.0)\n",
            "Requirement already satisfied: numpy<2.0.0,>=1.23.5 in /usr/local/lib/python3.11/dist-packages (from tensorflow==2.15.0) (1.26.4)\n",
            "Requirement already satisfied: opt-einsum>=2.3.2 in /usr/local/lib/python3.11/dist-packages (from tensorflow==2.15.0) (3.4.0)\n",
            "Requirement already satisfied: packaging in /usr/local/lib/python3.11/dist-packages (from tensorflow==2.15.0) (24.2)\n",
            "Requirement already satisfied: protobuf!=4.21.0,!=4.21.1,!=4.21.2,!=4.21.3,!=4.21.4,!=4.21.5,<5.0.0dev,>=3.20.3 in /usr/local/lib/python3.11/dist-packages (from tensorflow==2.15.0) (4.25.6)\n",
            "Requirement already satisfied: setuptools in /usr/local/lib/python3.11/dist-packages (from tensorflow==2.15.0) (75.1.0)\n",
            "Requirement already satisfied: six>=1.12.0 in /usr/local/lib/python3.11/dist-packages (from tensorflow==2.15.0) (1.17.0)\n",
            "Requirement already satisfied: termcolor>=1.1.0 in /usr/local/lib/python3.11/dist-packages (from tensorflow==2.15.0) (2.5.0)\n",
            "Requirement already satisfied: typing-extensions>=3.6.6 in /usr/local/lib/python3.11/dist-packages (from tensorflow==2.15.0) (4.12.2)\n",
            "Requirement already satisfied: wrapt<1.15,>=1.11.0 in /usr/local/lib/python3.11/dist-packages (from tensorflow==2.15.0) (1.14.1)\n",
            "Requirement already satisfied: tensorflow-io-gcs-filesystem>=0.23.1 in /usr/local/lib/python3.11/dist-packages (from tensorflow==2.15.0) (0.37.1)\n",
            "Requirement already satisfied: grpcio<2.0,>=1.24.3 in /usr/local/lib/python3.11/dist-packages (from tensorflow==2.15.0) (1.71.0)\n",
            "Requirement already satisfied: tensorboard<2.16,>=2.15 in /usr/local/lib/python3.11/dist-packages (from tensorflow==2.15.0) (2.15.2)\n",
            "Requirement already satisfied: tensorflow-estimator<2.16,>=2.15.0 in /usr/local/lib/python3.11/dist-packages (from tensorflow==2.15.0) (2.15.0)\n",
            "Requirement already satisfied: keras<2.16,>=2.15.0 in /usr/local/lib/python3.11/dist-packages (from tensorflow==2.15.0) (2.15.0)\n",
            "Requirement already satisfied: wheel<1.0,>=0.23.0 in /usr/local/lib/python3.11/dist-packages (from astunparse>=1.6.0->tensorflow==2.15.0) (0.45.1)\n",
            "Requirement already satisfied: google-auth<3,>=1.6.3 in /usr/local/lib/python3.11/dist-packages (from tensorboard<2.16,>=2.15->tensorflow==2.15.0) (2.38.0)\n",
            "Requirement already satisfied: google-auth-oauthlib<2,>=0.5 in /usr/local/lib/python3.11/dist-packages (from tensorboard<2.16,>=2.15->tensorflow==2.15.0) (1.2.1)\n",
            "Requirement already satisfied: markdown>=2.6.8 in /usr/lib/python3/dist-packages (from tensorboard<2.16,>=2.15->tensorflow==2.15.0) (3.3.6)\n",
            "Requirement already satisfied: requests<3,>=2.21.0 in /usr/local/lib/python3.11/dist-packages (from tensorboard<2.16,>=2.15->tensorflow==2.15.0) (2.32.3)\n",
            "Requirement already satisfied: tensorboard-data-server<0.8.0,>=0.7.0 in /usr/local/lib/python3.11/dist-packages (from tensorboard<2.16,>=2.15->tensorflow==2.15.0) (0.7.2)\n",
            "Requirement already satisfied: werkzeug>=1.0.1 in /usr/local/lib/python3.11/dist-packages (from tensorboard<2.16,>=2.15->tensorflow==2.15.0) (3.1.3)\n",
            "Requirement already satisfied: cachetools<6.0,>=2.0.0 in /usr/local/lib/python3.11/dist-packages (from google-auth<3,>=1.6.3->tensorboard<2.16,>=2.15->tensorflow==2.15.0) (5.5.2)\n",
            "Requirement already satisfied: pyasn1-modules>=0.2.1 in /usr/local/lib/python3.11/dist-packages (from google-auth<3,>=1.6.3->tensorboard<2.16,>=2.15->tensorflow==2.15.0) (0.4.1)\n",
            "Requirement already satisfied: rsa<5,>=3.1.4 in /usr/local/lib/python3.11/dist-packages (from google-auth<3,>=1.6.3->tensorboard<2.16,>=2.15->tensorflow==2.15.0) (4.9)\n",
            "Requirement already satisfied: requests-oauthlib>=0.7.0 in /usr/local/lib/python3.11/dist-packages (from google-auth-oauthlib<2,>=0.5->tensorboard<2.16,>=2.15->tensorflow==2.15.0) (2.0.0)\n",
            "Requirement already satisfied: charset-normalizer<4,>=2 in /usr/local/lib/python3.11/dist-packages (from requests<3,>=2.21.0->tensorboard<2.16,>=2.15->tensorflow==2.15.0) (3.4.1)\n",
            "Requirement already satisfied: idna<4,>=2.5 in /usr/local/lib/python3.11/dist-packages (from requests<3,>=2.21.0->tensorboard<2.16,>=2.15->tensorflow==2.15.0) (3.10)\n",
            "Requirement already satisfied: urllib3<3,>=1.21.1 in /usr/local/lib/python3.11/dist-packages (from requests<3,>=2.21.0->tensorboard<2.16,>=2.15->tensorflow==2.15.0) (2.3.0)\n",
            "Requirement already satisfied: certifi>=2017.4.17 in /usr/local/lib/python3.11/dist-packages (from requests<3,>=2.21.0->tensorboard<2.16,>=2.15->tensorflow==2.15.0) (2025.1.31)\n",
            "Requirement already satisfied: MarkupSafe>=2.1.1 in /usr/local/lib/python3.11/dist-packages (from werkzeug>=1.0.1->tensorboard<2.16,>=2.15->tensorflow==2.15.0) (3.0.2)\n",
            "Requirement already satisfied: pyasn1<0.7.0,>=0.4.6 in /usr/local/lib/python3.11/dist-packages (from pyasn1-modules>=0.2.1->google-auth<3,>=1.6.3->tensorboard<2.16,>=2.15->tensorflow==2.15.0) (0.6.1)\n",
            "Requirement already satisfied: oauthlib>=3.0.0 in /usr/local/lib/python3.11/dist-packages (from requests-oauthlib>=0.7.0->google-auth-oauthlib<2,>=0.5->tensorboard<2.16,>=2.15->tensorflow==2.15.0) (3.2.2)\n"
          ]
        }
      ],
      "source": [
        "!pip install tensorflow==2.15.0"
      ]
    },
    {
      "cell_type": "code",
      "execution_count": null,
      "metadata": {
        "colab": {
          "base_uri": "https://localhost:8080/"
        },
        "id": "WDZ-eKK1xwM0",
        "outputId": "a35924d2-7a91-4d62-bd13-e2f9df241518"
      },
      "outputs": [
        {
          "output_type": "stream",
          "name": "stdout",
          "text": [
            "Requirement already satisfied: transformers==4.38.2 in /usr/local/lib/python3.11/dist-packages (4.38.2)\n",
            "Requirement already satisfied: filelock in /usr/local/lib/python3.11/dist-packages (from transformers==4.38.2) (3.18.0)\n",
            "Requirement already satisfied: huggingface-hub<1.0,>=0.19.3 in /usr/local/lib/python3.11/dist-packages (from transformers==4.38.2) (0.29.3)\n",
            "Requirement already satisfied: numpy>=1.17 in /usr/local/lib/python3.11/dist-packages (from transformers==4.38.2) (1.26.4)\n",
            "Requirement already satisfied: packaging>=20.0 in /usr/local/lib/python3.11/dist-packages (from transformers==4.38.2) (24.2)\n",
            "Requirement already satisfied: pyyaml>=5.1 in /usr/local/lib/python3.11/dist-packages (from transformers==4.38.2) (6.0.2)\n",
            "Requirement already satisfied: regex!=2019.12.17 in /usr/local/lib/python3.11/dist-packages (from transformers==4.38.2) (2024.11.6)\n",
            "Requirement already satisfied: requests in /usr/local/lib/python3.11/dist-packages (from transformers==4.38.2) (2.32.3)\n",
            "Requirement already satisfied: tokenizers<0.19,>=0.14 in /usr/local/lib/python3.11/dist-packages (from transformers==4.38.2) (0.15.2)\n",
            "Requirement already satisfied: safetensors>=0.4.1 in /usr/local/lib/python3.11/dist-packages (from transformers==4.38.2) (0.5.3)\n",
            "Requirement already satisfied: tqdm>=4.27 in /usr/local/lib/python3.11/dist-packages (from transformers==4.38.2) (4.67.1)\n",
            "Requirement already satisfied: fsspec>=2023.5.0 in /usr/local/lib/python3.11/dist-packages (from huggingface-hub<1.0,>=0.19.3->transformers==4.38.2) (2025.3.0)\n",
            "Requirement already satisfied: typing-extensions>=3.7.4.3 in /usr/local/lib/python3.11/dist-packages (from huggingface-hub<1.0,>=0.19.3->transformers==4.38.2) (4.12.2)\n",
            "Requirement already satisfied: charset-normalizer<4,>=2 in /usr/local/lib/python3.11/dist-packages (from requests->transformers==4.38.2) (3.4.1)\n",
            "Requirement already satisfied: idna<4,>=2.5 in /usr/local/lib/python3.11/dist-packages (from requests->transformers==4.38.2) (3.10)\n",
            "Requirement already satisfied: urllib3<3,>=1.21.1 in /usr/local/lib/python3.11/dist-packages (from requests->transformers==4.38.2) (2.3.0)\n",
            "Requirement already satisfied: certifi>=2017.4.17 in /usr/local/lib/python3.11/dist-packages (from requests->transformers==4.38.2) (2025.1.31)\n"
          ]
        }
      ],
      "source": [
        "!pip install transformers==4.38.2"
      ]
    },
    {
      "cell_type": "code",
      "execution_count": null,
      "metadata": {
        "colab": {
          "base_uri": "https://localhost:8080/"
        },
        "id": "bOuH0cl2xwPh",
        "outputId": "0c57215a-f808-4fa1-d400-6376e0752545"
      },
      "outputs": [
        {
          "output_type": "stream",
          "name": "stdout",
          "text": [
            "Requirement already satisfied: pandas==1.5.3 in /usr/local/lib/python3.11/dist-packages (1.5.3)\n",
            "Requirement already satisfied: python-dateutil>=2.8.1 in /usr/local/lib/python3.11/dist-packages (from pandas==1.5.3) (2.9.0.post0)\n",
            "Requirement already satisfied: pytz>=2020.1 in /usr/local/lib/python3.11/dist-packages (from pandas==1.5.3) (2025.1)\n",
            "Requirement already satisfied: numpy>=1.21.0 in /usr/local/lib/python3.11/dist-packages (from pandas==1.5.3) (1.26.4)\n",
            "Requirement already satisfied: six>=1.5 in /usr/local/lib/python3.11/dist-packages (from python-dateutil>=2.8.1->pandas==1.5.3) (1.17.0)\n"
          ]
        }
      ],
      "source": [
        "!pip install pandas==1.5.3"
      ]
    },
    {
      "cell_type": "code",
      "execution_count": null,
      "metadata": {
        "colab": {
          "base_uri": "https://localhost:8080/"
        },
        "id": "JQtq1tR9xwSM",
        "outputId": "2110441e-d79e-4da5-b902-d6b66d204e13"
      },
      "outputs": [
        {
          "output_type": "stream",
          "name": "stdout",
          "text": [
            "Requirement already satisfied: numpy==1.26.4 in /usr/local/lib/python3.11/dist-packages (1.26.4)\n"
          ]
        }
      ],
      "source": [
        "!pip install numpy==1.26.4"
      ]
    },
    {
      "cell_type": "code",
      "execution_count": null,
      "metadata": {
        "colab": {
          "base_uri": "https://localhost:8080/"
        },
        "id": "gOOxYM5ex4Xo",
        "outputId": "4413e1e8-f338-4b3e-a93e-e6ed03c92c4c"
      },
      "outputs": [
        {
          "output_type": "stream",
          "name": "stdout",
          "text": [
            "Requirement already satisfied: scikit-learn==1.4.2 in /usr/local/lib/python3.11/dist-packages (1.4.2)\n",
            "Requirement already satisfied: numpy>=1.19.5 in /usr/local/lib/python3.11/dist-packages (from scikit-learn==1.4.2) (1.26.4)\n",
            "Requirement already satisfied: scipy>=1.6.0 in /usr/local/lib/python3.11/dist-packages (from scikit-learn==1.4.2) (1.14.1)\n",
            "Requirement already satisfied: joblib>=1.2.0 in /usr/local/lib/python3.11/dist-packages (from scikit-learn==1.4.2) (1.4.2)\n",
            "Requirement already satisfied: threadpoolctl>=2.0.0 in /usr/local/lib/python3.11/dist-packages (from scikit-learn==1.4.2) (3.6.0)\n"
          ]
        }
      ],
      "source": [
        "!pip install scikit-learn==1.4.2"
      ]
    },
    {
      "cell_type": "code",
      "execution_count": null,
      "metadata": {
        "colab": {
          "base_uri": "https://localhost:8080/"
        },
        "id": "lUUm3Wfmx51x",
        "outputId": "50c3236c-5fff-4f2b-8481-74e38f91b322"
      },
      "outputs": [
        {
          "output_type": "stream",
          "name": "stdout",
          "text": [
            "Requirement already satisfied: matplotlib==3.7.1 in /usr/local/lib/python3.11/dist-packages (3.7.1)\n",
            "Requirement already satisfied: contourpy>=1.0.1 in /usr/local/lib/python3.11/dist-packages (from matplotlib==3.7.1) (1.3.1)\n",
            "Requirement already satisfied: cycler>=0.10 in /usr/local/lib/python3.11/dist-packages (from matplotlib==3.7.1) (0.12.1)\n",
            "Requirement already satisfied: fonttools>=4.22.0 in /usr/local/lib/python3.11/dist-packages (from matplotlib==3.7.1) (4.56.0)\n",
            "Requirement already satisfied: kiwisolver>=1.0.1 in /usr/local/lib/python3.11/dist-packages (from matplotlib==3.7.1) (1.4.8)\n",
            "Requirement already satisfied: numpy>=1.20 in /usr/local/lib/python3.11/dist-packages (from matplotlib==3.7.1) (1.26.4)\n",
            "Requirement already satisfied: packaging>=20.0 in /usr/local/lib/python3.11/dist-packages (from matplotlib==3.7.1) (24.2)\n",
            "Requirement already satisfied: pillow>=6.2.0 in /usr/local/lib/python3.11/dist-packages (from matplotlib==3.7.1) (11.1.0)\n",
            "Requirement already satisfied: pyparsing>=2.3.1 in /usr/local/lib/python3.11/dist-packages (from matplotlib==3.7.1) (3.2.1)\n",
            "Requirement already satisfied: python-dateutil>=2.7 in /usr/local/lib/python3.11/dist-packages (from matplotlib==3.7.1) (2.9.0.post0)\n",
            "Requirement already satisfied: six>=1.5 in /usr/local/lib/python3.11/dist-packages (from python-dateutil>=2.7->matplotlib==3.7.1) (1.17.0)\n"
          ]
        }
      ],
      "source": [
        "!pip install matplotlib==3.7.1"
      ]
    },
    {
      "cell_type": "code",
      "execution_count": null,
      "metadata": {
        "colab": {
          "base_uri": "https://localhost:8080/"
        },
        "id": "_qCpDEPVx59e",
        "outputId": "9ae1620c-b213-4a36-e460-97459f58d983"
      },
      "outputs": [
        {
          "output_type": "stream",
          "name": "stdout",
          "text": [
            "Requirement already satisfied: seaborn==0.12.2 in /usr/local/lib/python3.11/dist-packages (0.12.2)\n",
            "Requirement already satisfied: numpy!=1.24.0,>=1.17 in /usr/local/lib/python3.11/dist-packages (from seaborn==0.12.2) (1.26.4)\n",
            "Requirement already satisfied: pandas>=0.25 in /usr/local/lib/python3.11/dist-packages (from seaborn==0.12.2) (1.5.3)\n",
            "Requirement already satisfied: matplotlib!=3.6.1,>=3.1 in /usr/local/lib/python3.11/dist-packages (from seaborn==0.12.2) (3.7.1)\n",
            "Requirement already satisfied: contourpy>=1.0.1 in /usr/local/lib/python3.11/dist-packages (from matplotlib!=3.6.1,>=3.1->seaborn==0.12.2) (1.3.1)\n",
            "Requirement already satisfied: cycler>=0.10 in /usr/local/lib/python3.11/dist-packages (from matplotlib!=3.6.1,>=3.1->seaborn==0.12.2) (0.12.1)\n",
            "Requirement already satisfied: fonttools>=4.22.0 in /usr/local/lib/python3.11/dist-packages (from matplotlib!=3.6.1,>=3.1->seaborn==0.12.2) (4.56.0)\n",
            "Requirement already satisfied: kiwisolver>=1.0.1 in /usr/local/lib/python3.11/dist-packages (from matplotlib!=3.6.1,>=3.1->seaborn==0.12.2) (1.4.8)\n",
            "Requirement already satisfied: packaging>=20.0 in /usr/local/lib/python3.11/dist-packages (from matplotlib!=3.6.1,>=3.1->seaborn==0.12.2) (24.2)\n",
            "Requirement already satisfied: pillow>=6.2.0 in /usr/local/lib/python3.11/dist-packages (from matplotlib!=3.6.1,>=3.1->seaborn==0.12.2) (11.1.0)\n",
            "Requirement already satisfied: pyparsing>=2.3.1 in /usr/local/lib/python3.11/dist-packages (from matplotlib!=3.6.1,>=3.1->seaborn==0.12.2) (3.2.1)\n",
            "Requirement already satisfied: python-dateutil>=2.7 in /usr/local/lib/python3.11/dist-packages (from matplotlib!=3.6.1,>=3.1->seaborn==0.12.2) (2.9.0.post0)\n",
            "Requirement already satisfied: pytz>=2020.1 in /usr/local/lib/python3.11/dist-packages (from pandas>=0.25->seaborn==0.12.2) (2025.1)\n",
            "Requirement already satisfied: six>=1.5 in /usr/local/lib/python3.11/dist-packages (from python-dateutil>=2.7->matplotlib!=3.6.1,>=3.1->seaborn==0.12.2) (1.17.0)\n"
          ]
        }
      ],
      "source": [
        "\n",
        "!pip install seaborn==0.12.2"
      ]
    },
    {
      "cell_type": "code",
      "execution_count": null,
      "metadata": {
        "colab": {
          "base_uri": "https://localhost:8080/"
        },
        "id": "AtA30OBXx6AG",
        "outputId": "3a331155-11d6-4bd2-9694-9ce75641a378"
      },
      "outputs": [
        {
          "output_type": "stream",
          "name": "stdout",
          "text": [
            "Requirement already satisfied: gdown==5.1.0 in /usr/local/lib/python3.11/dist-packages (5.1.0)\n",
            "Requirement already satisfied: beautifulsoup4 in /usr/local/lib/python3.11/dist-packages (from gdown==5.1.0) (4.13.3)\n",
            "Requirement already satisfied: filelock in /usr/local/lib/python3.11/dist-packages (from gdown==5.1.0) (3.18.0)\n",
            "Requirement already satisfied: requests[socks] in /usr/local/lib/python3.11/dist-packages (from gdown==5.1.0) (2.32.3)\n",
            "Requirement already satisfied: tqdm in /usr/local/lib/python3.11/dist-packages (from gdown==5.1.0) (4.67.1)\n",
            "Requirement already satisfied: soupsieve>1.2 in /usr/local/lib/python3.11/dist-packages (from beautifulsoup4->gdown==5.1.0) (2.6)\n",
            "Requirement already satisfied: typing-extensions>=4.0.0 in /usr/local/lib/python3.11/dist-packages (from beautifulsoup4->gdown==5.1.0) (4.12.2)\n",
            "Requirement already satisfied: charset-normalizer<4,>=2 in /usr/local/lib/python3.11/dist-packages (from requests[socks]->gdown==5.1.0) (3.4.1)\n",
            "Requirement already satisfied: idna<4,>=2.5 in /usr/local/lib/python3.11/dist-packages (from requests[socks]->gdown==5.1.0) (3.10)\n",
            "Requirement already satisfied: urllib3<3,>=1.21.1 in /usr/local/lib/python3.11/dist-packages (from requests[socks]->gdown==5.1.0) (2.3.0)\n",
            "Requirement already satisfied: certifi>=2017.4.17 in /usr/local/lib/python3.11/dist-packages (from requests[socks]->gdown==5.1.0) (2025.1.31)\n",
            "Requirement already satisfied: PySocks!=1.5.7,>=1.5.6 in /usr/local/lib/python3.11/dist-packages (from requests[socks]->gdown==5.1.0) (1.7.1)\n"
          ]
        }
      ],
      "source": [
        "!pip install gdown==5.1.0"
      ]
    },
    {
      "cell_type": "code",
      "execution_count": null,
      "metadata": {
        "colab": {
          "base_uri": "https://localhost:8080/"
        },
        "id": "9x2kMi_Tng3H",
        "outputId": "24b41492-39c8-428d-d91d-658ac81698f2"
      },
      "outputs": [
        {
          "output_type": "stream",
          "name": "stdout",
          "text": [
            "Collecting wordcloud\n",
            "  Downloading wordcloud-1.9.4-cp311-cp311-manylinux_2_17_x86_64.manylinux2014_x86_64.whl.metadata (3.4 kB)\n",
            "Requirement already satisfied: numpy>=1.6.1 in /usr/local/lib/python3.11/dist-packages (from wordcloud) (1.26.4)\n",
            "Requirement already satisfied: pillow in /usr/local/lib/python3.11/dist-packages (from wordcloud) (11.1.0)\n",
            "Requirement already satisfied: matplotlib in /usr/local/lib/python3.11/dist-packages (from wordcloud) (3.7.1)\n",
            "Requirement already satisfied: contourpy>=1.0.1 in /usr/local/lib/python3.11/dist-packages (from matplotlib->wordcloud) (1.3.1)\n",
            "Requirement already satisfied: cycler>=0.10 in /usr/local/lib/python3.11/dist-packages (from matplotlib->wordcloud) (0.12.1)\n",
            "Requirement already satisfied: fonttools>=4.22.0 in /usr/local/lib/python3.11/dist-packages (from matplotlib->wordcloud) (4.56.0)\n",
            "Requirement already satisfied: kiwisolver>=1.0.1 in /usr/local/lib/python3.11/dist-packages (from matplotlib->wordcloud) (1.4.8)\n",
            "Requirement already satisfied: packaging>=20.0 in /usr/local/lib/python3.11/dist-packages (from matplotlib->wordcloud) (24.2)\n",
            "Requirement already satisfied: pyparsing>=2.3.1 in /usr/local/lib/python3.11/dist-packages (from matplotlib->wordcloud) (3.2.1)\n",
            "Requirement already satisfied: python-dateutil>=2.7 in /usr/local/lib/python3.11/dist-packages (from matplotlib->wordcloud) (2.9.0.post0)\n",
            "Requirement already satisfied: six>=1.5 in /usr/local/lib/python3.11/dist-packages (from python-dateutil>=2.7->matplotlib->wordcloud) (1.17.0)\n",
            "Downloading wordcloud-1.9.4-cp311-cp311-manylinux_2_17_x86_64.manylinux2014_x86_64.whl (547 kB)\n",
            "\u001b[?25l   \u001b[90m━━━━━━━━━━━━━━━━━━━━━━━━━━━━━━━━━━━━━━━━\u001b[0m \u001b[32m0.0/547.9 kB\u001b[0m \u001b[31m?\u001b[0m eta \u001b[36m-:--:--\u001b[0m\r\u001b[2K   \u001b[90m━━━━━━━━━━━━━━━━━━━━━━━━━━━━━━━━━━━━━━━━\u001b[0m \u001b[32m547.9/547.9 kB\u001b[0m \u001b[31m11.0 MB/s\u001b[0m eta \u001b[36m0:00:00\u001b[0m\n",
            "\u001b[?25hInstalling collected packages: wordcloud\n",
            "Successfully installed wordcloud-1.9.4\n"
          ]
        }
      ],
      "source": [
        "!pip install wordcloud"
      ]
    },
    {
      "cell_type": "code",
      "execution_count": null,
      "metadata": {
        "id": "VVgFMfhyktv2"
      },
      "outputs": [],
      "source": [
        "import tensorflow as tf\n",
        "from tensorflow.keras import backend as K\n",
        "import numpy as np\n",
        "import pandas as pd\n",
        "import matplotlib.pyplot as plt\n",
        "import seaborn as sns\n",
        "from sklearn.model_selection import train_test_split\n",
        "from sklearn.metrics import accuracy_score, precision_score, recall_score, f1_score, roc_auc_score, confusion_matrix\n",
        "from sklearn.feature_extraction.text import TfidfVectorizer\n",
        "from sklearn.utils import resample\n",
        "from transformers import TFGPT2LMHeadModel, GPT2Tokenizer, BertTokenizer, TFBertForSequenceClassification\n",
        "from tensorflow.keras.layers import LSTM, Dense, Embedding, SpatialDropout1D, Bidirectional\n",
        "from tensorflow.keras.models import Sequential\n",
        "from tensorflow.keras.preprocessing.text import Tokenizer\n",
        "from tensorflow.keras.preprocessing.sequence import pad_sequences\n",
        "from tensorflow.keras.callbacks import EarlyStopping\n",
        "import random, os, gdown, re\n",
        "from wordcloud import WordCloud\n",
        "import gc"
      ]
    },
    {
      "cell_type": "code",
      "execution_count": null,
      "metadata": {
        "colab": {
          "base_uri": "https://localhost:8080/"
        },
        "id": "mg7_KR04jrE4",
        "outputId": "046d17ca-7415-4fec-e2ab-75772ed560d6"
      },
      "outputs": [
        {
          "output_type": "stream",
          "name": "stdout",
          "text": [
            "Mounted at /content/drive\n"
          ]
        }
      ],
      "source": [
        "# Mount Google Drive\n",
        "from google.colab import drive\n",
        "drive.mount('/content/drive')"
      ]
    },
    {
      "cell_type": "markdown",
      "metadata": {
        "id": "N-BuRKJCyx7p"
      },
      "source": []
    },
    {
      "cell_type": "code",
      "execution_count": null,
      "metadata": {
        "id": "SfCVvgtkjuK6"
      },
      "outputs": [],
      "source": [
        "# Set paths for synthetic data on Google Drive\n",
        "synthetic_folder = '/content/drive/MyDrive/synthetic_data'\n",
        "if not os.path.exists(synthetic_folder):\n",
        "    os.makedirs(synthetic_folder)\n",
        "synthetic_positive_path = os.path.join(synthetic_folder, 'synthetic_positive.csv')\n",
        "synthetic_negative_path = os.path.join(synthetic_folder, 'synthetic_negative.csv')"
      ]
    },
    {
      "cell_type": "code",
      "execution_count": null,
      "metadata": {
        "colab": {
          "base_uri": "https://localhost:8080/"
        },
        "id": "qrlMl6X8k0fD",
        "outputId": "9644d756-2154-4e2c-f3e2-01e2492fc6fc"
      },
      "outputs": [
        {
          "output_type": "stream",
          "name": "stdout",
          "text": [
            "TPU not detected. Using CPU/GPU\n",
            "Distribution strategy: <tensorflow.python.distribute.distribute_lib._DefaultDistributionStrategy object at 0x7c789d48eb10>\n"
          ]
        }
      ],
      "source": [
        "# TPU Setup\n",
        "try:\n",
        "    tpu = tf.distribute.cluster_resolver.TPUClusterResolver()\n",
        "    tf.config.experimental_connect_to_cluster(tpu)\n",
        "    tf.tpu.experimental.initialize_tpu_system(tpu)\n",
        "    strategy = tf.distribute.TPUStrategy(tpu)\n",
        "    print(\"TPU is ready\")\n",
        "except ValueError:\n",
        "    strategy = tf.distribute.get_strategy()\n",
        "    print(\"TPU not detected. Using CPU/GPU\")\n",
        "print(\"Distribution strategy:\", strategy)\n"
      ]
    },
    {
      "cell_type": "code",
      "execution_count": null,
      "metadata": {
        "id": "TKiTzB0mk6Ud"
      },
      "outputs": [],
      "source": [
        "# Load real data from Google Drive\n",
        "def load_real_data_from_drive():\n",
        "    file_url = \"https://drive.google.com/uc?id=1KRiUmF7XP32mHTFHxPz_p9si4YE0NMK0\"\n",
        "    output_path = \"IMDB_Dataset.csv\"\n",
        "    print(\"Downloading dataset...\")\n",
        "    gdown.download(file_url, output_path, quiet=False)\n",
        "    print(\"Loading dataset...\")\n",
        "    real_data = pd.read_csv(output_path)\n",
        "    real_data['label'] = real_data['sentiment'].map({'positive': 1, 'negative': 0})\n",
        "    print(f\"Loaded dataset with {len(real_data)} entries.\")\n",
        "    return real_data[['review', 'label']]\n",
        "\n"
      ]
    },
    {
      "cell_type": "code",
      "execution_count": null,
      "metadata": {
        "id": "wXE-K4mmk970"
      },
      "outputs": [],
      "source": [
        "# Load GPT-2 model and tokenizer (PyTorch)\n",
        "def load_gpt2_model():\n",
        "    model_name = \"gpt2-medium\"\n",
        "    model = TFGPT2LMHeadModel.from_pretrained(model_name)\n",
        "    tokenizer = GPT2Tokenizer.from_pretrained(model_name)\n",
        "    # Set padding_side to 'left' to avoid issues with decoder-only models.\n",
        "    tokenizer.padding_side = \"left\"\n",
        "    if tokenizer.pad_token is None:\n",
        "        tokenizer.pad_token = tokenizer.eos_token\n",
        "    return model, tokenizer"
      ]
    },
    {
      "cell_type": "code",
      "execution_count": null,
      "metadata": {
        "id": "XuQH0tAWlBp6"
      },
      "outputs": [],
      "source": [
        "# Function for dynamic prompt generation\n",
        "def generate_dynamic_prompt(sentiment):\n",
        "    if sentiment == 'positive':\n",
        "        adjectives = [\"incredibly good\", \"amazing\", \"inspiring\", \"stunning\", \"fantastic\"]\n",
        "        reasons = [\n",
        "            \"the plot kept me on the edge of my seat from start to finish\",\n",
        "            \"the acting was top-notch\",\n",
        "            \"the visual effects were breathtaking\",\n",
        "            \"the music perfectly complemented the movie's atmosphere\",\n",
        "            \"every scene evoked strong emotions\"\n",
        "        ]\n",
        "        prompt = f\"Write an enthusiastic and detailed movie review. The movie was {random.choice(adjectives)} because {random.choice(reasons)}.\"\n",
        "    elif sentiment == 'negative':\n",
        "        adjectives = [\"terrible\", \"disgusting\", \"disappointing\", \"dull\", \"uninteresting\"]\n",
        "        reasons = [\n",
        "            \"the plot was predictable and boring\",\n",
        "            \"the actors failed to convey any emotion\",\n",
        "            \"the visual effects looked unconvincing\",\n",
        "            \"the music detracted from the movie experience\",\n",
        "            \"every scene felt meaningless\"\n",
        "        ]\n",
        "        prompt = f\"Write a critical and detailed movie review. The movie was {random.choice(adjectives)} because {random.choice(reasons)}.\"\n",
        "    else:\n",
        "        raise ValueError(\"Sentiment must be 'positive' or 'negative'.\")\n",
        "    return prompt\n"
      ]
    },
    {
      "cell_type": "code",
      "execution_count": null,
      "metadata": {
        "id": "xQrSMLLzz23m"
      },
      "outputs": [],
      "source": [
        "\n",
        "# Function to clean the generated text by removing prompt remnants and undesired patterns\n",
        "def clean_generated_text(text):\n",
        "    patterns = [\n",
        "        r\"Write an enthusiastic and detailed movie review\\.?\",\n",
        "        r\"Write a critical and detailed movie review\\.?\",\n",
        "        r\"Write an? .* movie review\\.?\",\n",
        "    ]\n",
        "    for pattern in patterns:\n",
        "        text = re.sub(pattern, \"\", text, flags=re.IGNORECASE)\n",
        "    text = \" \".join(text.split())\n",
        "    return text"
      ]
    },
    {
      "cell_type": "code",
      "execution_count": null,
      "metadata": {
        "id": "OfJJeAZFiwuD"
      },
      "outputs": [],
      "source": [
        "def generate_synthetic_data_batch(model, tokenizer, num_samples, sentiment, batch_size=32, save_path=None):\n",
        "    synthetic_data = []\n",
        "    prompts = []\n",
        "    # Generate all prompts first\n",
        "    for i in range(num_samples):\n",
        "        prompt = generate_dynamic_prompt(sentiment).strip()\n",
        "        if prompt:\n",
        "            prompts.append(prompt)\n",
        "        else:\n",
        "            print(f\"Empty prompt in iteration {i}. Skipping.\")\n",
        "    # Process prompts in batches\n",
        "    for i in range(0, len(prompts), batch_size):\n",
        "        batch_prompts = prompts[i:i+batch_size]\n",
        "        # Tokenize the batch with padding\n",
        "        inputs = tokenizer(batch_prompts, return_tensors=\"tf\", padding=True)\n",
        "        # Calculate prompt lengths from the attention mask\n",
        "        prompt_lens = tf.reduce_sum(inputs[\"attention_mask\"], axis=1)  # shape: (batch_size,)\n",
        "        max_prompt_len = int(tf.reduce_max(prompt_lens).numpy())\n",
        "        # Generate outputs with additional 50 tokens beyond the longest prompt in the batch\n",
        "        batch_outputs = model.generate(\n",
        "            **inputs,\n",
        "            max_length=max_prompt_len + 50,\n",
        "            num_return_sequences=1,\n",
        "            no_repeat_ngram_size=2,\n",
        "            pad_token_id=tokenizer.eos_token_id,\n",
        "            top_k=50,\n",
        "            top_p=0.95,\n",
        "            temperature=0.7,\n",
        "            do_sample=True\n",
        "        )\n",
        "        # Decode outputs for each prompt in the batch\n",
        "        for j in range(len(batch_prompts)):\n",
        "            current_prompt_len = int(prompt_lens[j].numpy())\n",
        "            output_ids = batch_outputs[j]\n",
        "            if output_ids.shape[0] < current_prompt_len:\n",
        "                print(f\"Output length is shorter than prompt in batch index {j}: {batch_prompts[j]}\")\n",
        "                continue\n",
        "            generated_ids = output_ids[current_prompt_len:]\n",
        "            generated_text = tokenizer.decode(generated_ids.numpy().tolist(), skip_special_tokens=True)\n",
        "            generated_text = clean_generated_text(generated_text)\n",
        "            label = 1 if sentiment == 'positive' else 0\n",
        "            synthetic_data.append({'review': generated_text, 'label': label})\n",
        "    if save_path:\n",
        "        df = pd.DataFrame(synthetic_data)\n",
        "        df.to_csv(save_path, index=False)\n",
        "        print(f\"Synthetic {sentiment} data saved to {save_path}\")\n",
        "    return synthetic_data\n"
      ]
    },
    {
      "cell_type": "code",
      "execution_count": null,
      "metadata": {
        "id": "wiAde5UKlFvz"
      },
      "outputs": [],
      "source": [
        "def compute_perplexity(model, tokenizer, texts):\n",
        "    if len(texts) == 0:\n",
        "        print(\"No texts provided for perplexity calculation. Returning infinity.\")\n",
        "        return np.inf\n",
        "\n",
        "    total_loss = 0.0\n",
        "    # Loop through each text and accumulate the loss.\n",
        "    for text in texts:\n",
        "        # Ensure the text is a string.\n",
        "        text = str(text)\n",
        "        # Tokenize the text with truncation (max 100 tokens).\n",
        "        inputs = tokenizer(text, return_tensors=\"tf\", truncation=True, max_length=100)\n",
        "        # Compute the model outputs with labels equal to input_ids.\n",
        "        outputs = model(**inputs, labels=inputs[\"input_ids\"])\n",
        "        loss = outputs.loss.numpy()  # Convert TF tensor to numpy scalar.\n",
        "        total_loss += loss\n",
        "\n",
        "    avg_loss = total_loss / len(texts)\n",
        "    perplexity = np.exp(avg_loss)\n",
        "    # Convert to Python float to avoid formatting errors.\n",
        "    return float(perplexity)\n"
      ]
    },
    {
      "cell_type": "code",
      "execution_count": null,
      "metadata": {
        "id": "ium1NZgmi6Ye"
      },
      "outputs": [],
      "source": [
        "def plot_word_map(texts):\n",
        "    if not texts or not any(text.strip() for text in texts):\n",
        "        print(\"No text available to generate word cloud.\")\n",
        "        return\n",
        "    all_text = \" \".join(texts)\n",
        "    if not all_text.strip():\n",
        "        print(\"No text available to generate word cloud.\")\n",
        "        return\n",
        "    try:\n",
        "        wc = WordCloud(width=800, height=400, background_color='white', collocations=False).generate(all_text)\n",
        "    except ValueError as e:\n",
        "        print(f\"Word cloud generation error: {e}\")\n",
        "        return\n",
        "    if len(wc.words_) == 0:\n",
        "        print(\"Word cloud generation failed: no words found.\")\n",
        "        return\n",
        "    plt.figure(figsize=(10, 5))\n",
        "    plt.imshow(wc, interpolation=\"bilinear\")\n",
        "    plt.axis(\"off\")\n",
        "    plt.title(\"Word Map for Synthetic Data\")\n",
        "    plt.show()"
      ]
    },
    {
      "cell_type": "code",
      "execution_count": null,
      "metadata": {
        "id": "bFO6P3uaMCCl"
      },
      "outputs": [],
      "source": [
        "# This function handles synthetic data generation separately.\n",
        "def generate_and_save_synthetic_data():\n",
        "    # Load GPT-2 model and tokenizer\n",
        "    gpt2_model, gpt2_tokenizer = load_gpt2_model()\n",
        "\n",
        "    # Generate synthetic positive reviews in batches\n",
        "    print(\"Generating synthetic positive reviews...\")\n",
        "    synthetic_data_positive = generate_synthetic_data_batch(\n",
        "        gpt2_model, gpt2_tokenizer, num_samples=5000, sentiment='positive', batch_size=32, save_path=synthetic_positive_path\n",
        "    )\n",
        "\n",
        "    # Generate synthetic negative reviews in batches\n",
        "    print(\"Generating synthetic negative reviews...\")\n",
        "    synthetic_data_negative = generate_synthetic_data_batch(\n",
        "        gpt2_model, gpt2_tokenizer, num_samples=5000, sentiment='negative', batch_size=32, save_path=synthetic_negative_path\n",
        "    )\n",
        "\n",
        "    synthetic_texts = [item['review'] for item in (synthetic_data_positive + synthetic_data_negative)]\n",
        "    if len(synthetic_texts) > 0:\n",
        "        perplexity = compute_perplexity(gpt2_model, gpt2_tokenizer, synthetic_texts)\n",
        "        print(f\"Perplexity of synthetic data: {perplexity:.2f}\")\n",
        "    else:\n",
        "        print(\"No synthetic texts generated to compute perplexity.\")\n",
        "    if any(text.strip() for text in synthetic_texts):\n",
        "        plot_word_map(synthetic_texts)\n",
        "    else:\n",
        "        print(\"No text available to generate word cloud.\")"
      ]
    },
    {
      "cell_type": "code",
      "execution_count": null,
      "metadata": {
        "id": "D_nuvxn5lL1g"
      },
      "outputs": [],
      "source": [
        "# Prepare data with balancing and validation split\n",
        "def prepare_data_for_training(real_data, synthetic_data, real_ratio):\n",
        "    total_samples = len(real_data)\n",
        "    real_count = int(real_ratio * total_samples)\n",
        "    synthetic_count = total_samples - real_count\n",
        "    print(f\"Using {real_count} real samples and {synthetic_count} synthetic samples.\")\n",
        "\n",
        "    if real_count > len(real_data):\n",
        "        real_count = len(real_data)\n",
        "    if synthetic_count > len(synthetic_data):\n",
        "        synthetic_count = len(synthetic_data)\n",
        "\n",
        "    real_sample = real_data.sample(real_count, random_state=42) if real_count > 0 else pd.DataFrame()\n",
        "    synthetic_sample = pd.DataFrame(synthetic_data).sample(synthetic_count, random_state=42) if synthetic_count > 0 else pd.DataFrame()\n",
        "\n",
        "    # Drop rows with missing or empty 'review' and missing 'label'\n",
        "    combined_data = pd.concat([real_sample, synthetic_sample], ignore_index=True)\n",
        "    combined_data = combined_data.dropna(subset=['review', 'label'])\n",
        "    combined_data = combined_data[combined_data['review'].str.strip() != '']\n",
        "\n",
        "    # Balance classes\n",
        "    pos_samples = combined_data[combined_data['label'] == 1]\n",
        "    neg_samples = combined_data[combined_data['label'] == 0]\n",
        "    min_samples = min(len(pos_samples), len(neg_samples))\n",
        "    pos_balanced = resample(pos_samples, replace=False, n_samples=min_samples, random_state=42)\n",
        "    neg_balanced = resample(neg_samples, replace=False, n_samples=min_samples, random_state=42)\n",
        "    balanced_data = pd.concat([pos_balanced, neg_balanced]).sample(frac=1, random_state=42)\n",
        "\n",
        "    X = balanced_data['review']\n",
        "    y = balanced_data['label'].astype(int)\n",
        "    X_temp, X_test, y_temp, y_test = train_test_split(X, y, test_size=0.2, random_state=42)\n",
        "    X_train, X_val, y_train, y_val = train_test_split(X_temp, y_temp, test_size=0.25, random_state=42)  # 0.25 of 0.8 = 0.2 of total\n",
        "    return X_train, X_val, X_test, y_train, y_val, y_test\n",
        "\n",
        "\n"
      ]
    },
    {
      "cell_type": "code",
      "execution_count": null,
      "metadata": {
        "id": "W_JAUENElXDm"
      },
      "outputs": [],
      "source": [
        "# Logistic Regression model\n",
        "def logistic_regression_model(X_train, y_train):\n",
        "    from sklearn.linear_model import LogisticRegression\n",
        "    vectorizer = TfidfVectorizer(max_features=5000)\n",
        "    X_train_tfidf = vectorizer.fit_transform(X_train)\n",
        "    model = LogisticRegression(max_iter=1000)\n",
        "    model.fit(X_train_tfidf, y_train)\n",
        "    return model, vectorizer\n",
        "\n"
      ]
    },
    {
      "cell_type": "code",
      "execution_count": null,
      "metadata": {
        "id": "vkwTzGzilbMw"
      },
      "outputs": [],
      "source": [
        "# Preprocess text for LSTM\n",
        "def preprocess_text_for_lstm(X_train, X_test, X_val, vocab_size=5000, max_length=100):\n",
        "    tokenizer = Tokenizer(num_words=vocab_size, oov_token=\"<OOV>\")\n",
        "    tokenizer.fit_on_texts(X_train)\n",
        "    X_train_pad = pad_sequences(tokenizer.texts_to_sequences(X_train), maxlen=max_length, padding='post', truncating='post')\n",
        "    X_test_pad = pad_sequences(tokenizer.texts_to_sequences(X_test), maxlen=max_length, padding='post', truncating='post')\n",
        "    X_val_pad = pad_sequences(tokenizer.texts_to_sequences(X_val), maxlen=max_length, padding='post', truncating='post')\n",
        "    return X_train_pad, X_test_pad, X_val_pad, tokenizer\n"
      ]
    },
    {
      "cell_type": "code",
      "execution_count": null,
      "metadata": {
        "id": "t63hS2IIlfC6"
      },
      "outputs": [],
      "source": [
        "# LSTM model\n",
        "def lstm_model(vocab_size, max_length):\n",
        "    model = Sequential([\n",
        "        Embedding(vocab_size, 128, input_length=max_length),\n",
        "        SpatialDropout1D(0.2),\n",
        "        Bidirectional(LSTM(64, dropout=0.2, recurrent_dropout=0.2)),\n",
        "        Dense(1, activation='sigmoid')\n",
        "    ])\n",
        "    model.compile(loss='binary_crossentropy', optimizer='adam', metrics=['accuracy'])\n",
        "    return model\n"
      ]
    },
    {
      "cell_type": "code",
      "execution_count": null,
      "metadata": {
        "id": "9GUFzi-MllMy"
      },
      "outputs": [],
      "source": [
        "# Plot confusion matrix\n",
        "def plot_confusion_matrix(y_test, y_pred, model_name, ratio):\n",
        "    cm = confusion_matrix(y_test, y_pred)\n",
        "    plt.figure(figsize=(6, 4))\n",
        "    sns.heatmap(cm, annot=True, fmt='d', cmap='Blues',\n",
        "                xticklabels=['Negative', 'Positive'], yticklabels=['Negative', 'Positive'])\n",
        "    plt.title(f'Confusion Matrix for {model_name} at {ratio*100}% Real Data')\n",
        "    plt.ylabel('True Label')\n",
        "    plt.xlabel('Predicted Label')\n",
        "    plt.show()"
      ]
    },
    {
      "cell_type": "code",
      "execution_count": null,
      "metadata": {
        "id": "qcSkfI_ilrBE"
      },
      "outputs": [],
      "source": [
        "# Evaluate model with additional metrics\n",
        "def evaluate_model(model, X_test, y_test, model_type='logistic', model_name=\"\", ratio=0):\n",
        "    \"\"\"\n",
        "    Evaluates a model on the test set and prints metrics along with a confusion matrix.\n",
        "\n",
        "    Parameters:\n",
        "        model: Trained model.\n",
        "        X_test: Test input data.\n",
        "        y_test: True labels.\n",
        "        model_type (str): One of 'bert', 'logistic', or 'lstm'.\n",
        "        model_name (str): Name of the model for display.\n",
        "        ratio (float): Proportion of real data used.\n",
        "\n",
        "    Returns:\n",
        "        Tuple of (accuracy, precision, recall, f1_score, auc_roc)\n",
        "    \"\"\"\n",
        "    if model_type == 'bert':\n",
        "        predictions = model.predict(X_test)\n",
        "        y_pred = np.argmax(predictions.logits, axis=1)\n",
        "        y_pred_proba = tf.nn.softmax(predictions.logits, axis=1)[:, 1].numpy()\n",
        "    elif model_type == 'logistic':\n",
        "        # For logistic regression, predict returns probability estimates.\n",
        "        y_pred_proba = model.predict(X_test)\n",
        "        y_pred = np.round(y_pred_proba)\n",
        "    elif model_type == 'lstm':\n",
        "        y_pred_proba = model.predict(X_test)\n",
        "        y_pred = (y_pred_proba > 0.5).astype(int)\n",
        "    else:\n",
        "        raise ValueError(f\"Unsupported model_type: {model_type}\")\n",
        "\n",
        "    acc = accuracy_score(y_test, y_pred)\n",
        "    prec = precision_score(y_test, y_pred)\n",
        "    rec = recall_score(y_test, y_pred)\n",
        "    f1 = f1_score(y_test, y_pred)\n",
        "    auc = roc_auc_score(y_test, y_pred_proba)\n",
        "\n",
        "    print(f\"Accuracy: {acc:.3f}\")\n",
        "    print(f\"Precision: {prec:.3f}\")\n",
        "    print(f\"Recall: {rec:.3f}\")\n",
        "    print(f\"F1 Score: {f1:.3f}\")\n",
        "    print(f\"AUC-ROC: {auc:.3f}\")\n",
        "    plot_confusion_matrix(y_test, y_pred, model_name, ratio)\n",
        "\n",
        "    return acc, prec, rec, f1, auc"
      ]
    },
    {
      "cell_type": "code",
      "execution_count": null,
      "metadata": {
        "id": "k6cCMBdYMs0d"
      },
      "outputs": [],
      "source": [
        "generate_and_save_synthetic_data()"
      ]
    },
    {
      "cell_type": "code",
      "source": [
        "real_data = load_real_data_from_drive()\n",
        "\n",
        "# Load synthetic data from Google Drive (assumes data was generated previously)\n",
        "print(\"Loading synthetic data from Google Drive...\")\n",
        "synthetic_data_positive = pd.read_csv(synthetic_positive_path).to_dict('records')\n",
        "synthetic_data_negative = pd.read_csv(synthetic_negative_path).to_dict('records')\n",
        "synthetic_data = synthetic_data_positive + synthetic_data_negative"
      ],
      "metadata": {
        "colab": {
          "base_uri": "https://localhost:8080/"
        },
        "id": "ebDcm003B6C7",
        "outputId": "626a0e4c-6553-4692-e62b-ddd4d7199434"
      },
      "execution_count": null,
      "outputs": [
        {
          "output_type": "stream",
          "name": "stdout",
          "text": [
            "Downloading dataset...\n"
          ]
        },
        {
          "output_type": "stream",
          "name": "stderr",
          "text": [
            "Downloading...\n",
            "From: https://drive.google.com/uc?id=1KRiUmF7XP32mHTFHxPz_p9si4YE0NMK0\n",
            "To: /content/IMDB_Dataset.csv\n",
            "100%|██████████| 66.2M/66.2M [00:01<00:00, 63.9MB/s]\n"
          ]
        },
        {
          "output_type": "stream",
          "name": "stdout",
          "text": [
            "Loading dataset...\n",
            "Loaded dataset with 50000 entries.\n",
            "Loading synthetic data from Google Drive...\n"
          ]
        }
      ]
    },
    {
      "cell_type": "code",
      "source": [
        "print(\"\\n=== Logistic Regression Experiments ===\")\n",
        "logistic_results = {}\n",
        "proportions = [0, 0.25, 0.5, 0.75, 1]\n",
        "\n",
        "for ratio in proportions:\n",
        "    print(f\"\\n--- Logistic Regression: {int(ratio*100)}% real data ---\")\n",
        "    X_train, X_val, X_test, y_train, y_val, y_test = prepare_data_for_training(real_data, synthetic_data, real_ratio=ratio)\n",
        "    model, vectorizer = logistic_regression_model(X_train, y_train)\n",
        "    X_test_tfidf = vectorizer.transform(X_test)\n",
        "    acc, prec, rec, f1, auc = evaluate_model(\n",
        "        model, X_test_tfidf, y_test,\n",
        "        model_type='logistic',\n",
        "        model_name='Logistic Regression',\n",
        "        ratio=ratio\n",
        "    )\n",
        "    logistic_results[ratio] = {\"accuracy\": acc, \"f1_score\": f1, \"auc\": auc}\n",
        "\n",
        "print(\"Logistic Regression Results:\")\n",
        "print(logistic_results)"
      ],
      "metadata": {
        "colab": {
          "base_uri": "https://localhost:8080/",
          "height": 1000
        },
        "id": "Wi3HSrAsCDDz",
        "outputId": "c1e3bdfa-c1f3-4ed2-e88f-130cb4a8ba2f"
      },
      "execution_count": null,
      "outputs": [
        {
          "output_type": "stream",
          "name": "stdout",
          "text": [
            "\n",
            "=== Logistic Regression Experiments ===\n",
            "\n",
            "--- Logistic Regression: 0% real data ---\n",
            "Using 0 real samples and 50000 synthetic samples.\n",
            "Accuracy: 0.940\n",
            "Precision: 0.955\n",
            "Recall: 0.923\n",
            "F1 Score: 0.939\n",
            "AUC-ROC: 0.940\n"
          ]
        },
        {
          "output_type": "display_data",
          "data": {
            "text/plain": [
              "<Figure size 600x400 with 2 Axes>"
            ],
            "image/png": "[encoded data removed]"
          },
          "metadata": {}
        },
        {
          "output_type": "stream",
          "name": "stdout",
          "text": [
            "\n",
            "--- Logistic Regression: 25% real data ---\n",
            "Using 12500 real samples and 37500 synthetic samples.\n",
            "Accuracy: 0.896\n",
            "Precision: 0.897\n",
            "Recall: 0.897\n",
            "F1 Score: 0.897\n",
            "AUC-ROC: 0.896\n"
          ]
        },
        {
          "output_type": "display_data",
          "data": {
            "text/plain": [
              "<Figure size 600x400 with 2 Axes>"
            ],
            "image/png": "[encoded data removed]"
          },
          "metadata": {}
        },
        {
          "output_type": "stream",
          "name": "stdout",
          "text": [
            "\n",
            "--- Logistic Regression: 50% real data ---\n",
            "Using 25000 real samples and 25000 synthetic samples.\n",
            "Accuracy: 0.892\n",
            "Precision: 0.887\n",
            "Recall: 0.900\n",
            "F1 Score: 0.893\n",
            "AUC-ROC: 0.892\n"
          ]
        },
        {
          "output_type": "display_data",
          "data": {
            "text/plain": [
              "<Figure size 600x400 with 2 Axes>"
            ],
            "image/png": "[encoded data removed]"
          },
          "metadata": {}
        },
        {
          "output_type": "stream",
          "name": "stdout",
          "text": [
            "\n",
            "--- Logistic Regression: 75% real data ---\n",
            "Using 37500 real samples and 12500 synthetic samples.\n",
            "Accuracy: 0.887\n",
            "Precision: 0.885\n",
            "Recall: 0.889\n",
            "F1 Score: 0.887\n",
            "AUC-ROC: 0.887\n"
          ]
        },
        {
          "output_type": "display_data",
          "data": {
            "text/plain": [
              "<Figure size 600x400 with 2 Axes>"
            ],
            "image/png": "[encoded data removed]"
          },
          "metadata": {}
        },
        {
          "output_type": "stream",
          "name": "stdout",
          "text": [
            "\n",
            "--- Logistic Regression: 100% real data ---\n",
            "Using 50000 real samples and 0 synthetic samples.\n",
            "Accuracy: 0.893\n",
            "Precision: 0.889\n",
            "Recall: 0.899\n",
            "F1 Score: 0.894\n",
            "AUC-ROC: 0.893\n"
          ]
        },
        {
          "output_type": "display_data",
          "data": {
            "text/plain": [
              "<Figure size 600x400 with 2 Axes>"
            ],
            "image/png": "[encoded data removed]"
          },
          "metadata": {}
        },
        {
          "output_type": "stream",
          "name": "stdout",
          "text": [
            "Logistic Regression Results:\n",
            "{0: {'accuracy': 0.9404702351175588, 'f1_score': 0.93900563813429, 'auc': 0.940343002210334}, 0.25: {'accuracy': 0.8955625280143433, 'f1_score': 0.8970848056537103, 'auc': 0.8955450991267442}, 0.5: {'accuracy': 0.8915903890160183, 'f1_score': 0.8932394366197183, 'auc': 0.8915238660063078}, 0.75: {'accuracy': 0.8871205733558178, 'f1_score': 0.887108675028987, 'auc': 0.8871269462079867}, 1: {'accuracy': 0.8926, 'f1_score': 0.8937685459940653, 'auc': 0.8925663908820181}}\n"
          ]
        }
      ]
    },
    {
      "cell_type": "code",
      "source": [
        "print(\"\\n=== LSTM Experiments ===\")\n",
        "lstm_results = {}\n",
        "\n",
        "for ratio in proportions:\n",
        "    print(f\"\\n--- LSTM: {ratio*100}% real data ---\")\n",
        "    X_train, X_val, X_test, y_train, y_val, y_test = prepare_data_for_training(real_data, synthetic_data, real_ratio=ratio)\n",
        "    X_train_pad, X_test_pad, X_val_pad, lstm_tokenizer = preprocess_text_for_lstm(X_train, X_test, X_val)\n",
        "    with strategy.scope():\n",
        "        lstm = lstm_model(vocab_size=5000, max_length=100)\n",
        "    lstm.fit(\n",
        "        X_train_pad, y_train,\n",
        "        epochs=10,\n",
        "        batch_size=32,\n",
        "        validation_data=(X_val_pad, y_val),\n",
        "        callbacks=[EarlyStopping(monitor='val_loss', patience=3, restore_best_weights=True)]\n",
        "    )\n",
        "    acc, prec, rec, f1, auc = evaluate_model(\n",
        "        lstm, X_test_pad, y_test,\n",
        "        model_type='lstm',\n",
        "        model_name='LSTM',\n",
        "        ratio=ratio\n",
        "    )\n",
        "    lstm_results[ratio] = {\"accuracy\": acc, \"f1_score\": f1, \"auc\": auc}\n",
        "\n",
        "print(\"LSTM Results:\")\n",
        "print(lstm_results)"
      ],
      "metadata": {
        "colab": {
          "base_uri": "https://localhost:8080/",
          "height": 1000
        },
        "id": "oBX4usDkCLoR",
        "outputId": "defff9eb-3367-492b-ac0e-a74de07f3299"
      },
      "execution_count": null,
      "outputs": [
        {
          "output_type": "stream",
          "name": "stdout",
          "text": [
            "\n",
            "=== LSTM Experiments ===\n",
            "\n",
            "--- LSTM: 0% real data ---\n",
            "Using 0 real samples and 50000 synthetic samples.\n",
            "Epoch 1/10\n",
            "188/188 [==============================] - 31s 136ms/step - loss: 0.2756 - accuracy: 0.8805 - val_loss: 0.1449 - val_accuracy: 0.9390\n",
            "Epoch 2/10\n",
            "188/188 [==============================] - 25s 134ms/step - loss: 0.1017 - accuracy: 0.9601 - val_loss: 0.1161 - val_accuracy: 0.9505\n",
            "Epoch 3/10\n",
            "188/188 [==============================] - 25s 136ms/step - loss: 0.0627 - accuracy: 0.9750 - val_loss: 0.1295 - val_accuracy: 0.9535\n",
            "Epoch 4/10\n",
            "188/188 [==============================] - 25s 134ms/step - loss: 0.0376 - accuracy: 0.9860 - val_loss: 0.1369 - val_accuracy: 0.9530\n",
            "Epoch 5/10\n",
            "188/188 [==============================] - 25s 134ms/step - loss: 0.0249 - accuracy: 0.9915 - val_loss: 0.1609 - val_accuracy: 0.9470\n",
            "63/63 [==============================] - 2s 20ms/step\n",
            "Accuracy: 0.950\n",
            "Precision: 0.966\n",
            "Recall: 0.933\n",
            "F1 Score: 0.949\n",
            "AUC-ROC: 0.992\n"
          ]
        },
        {
          "output_type": "display_data",
          "data": {
            "text/plain": [
              "<Figure size 600x400 with 2 Axes>"
            ],
            "image/png": "[encoded data removed]"
          },
          "metadata": {}
        },
        {
          "output_type": "stream",
          "name": "stdout",
          "text": [
            "\n",
            "--- LSTM: 25.0% real data ---\n",
            "Using 12500 real samples and 37500 synthetic samples.\n",
            "Epoch 1/10\n",
            "419/419 [==============================] - 61s 132ms/step - loss: 0.4231 - accuracy: 0.7841 - val_loss: 0.3692 - val_accuracy: 0.8169\n",
            "Epoch 2/10\n",
            "419/419 [==============================] - 55s 131ms/step - loss: 0.2605 - accuracy: 0.8878 - val_loss: 0.3014 - val_accuracy: 0.8574\n",
            "Epoch 3/10\n",
            "419/419 [==============================] - 55s 132ms/step - loss: 0.1984 - accuracy: 0.9200 - val_loss: 0.3398 - val_accuracy: 0.8545\n",
            "Epoch 4/10\n",
            "419/419 [==============================] - 56s 133ms/step - loss: 0.1527 - accuracy: 0.9404 - val_loss: 0.4288 - val_accuracy: 0.8449\n",
            "Epoch 5/10\n",
            "419/419 [==============================] - 56s 134ms/step - loss: 0.1081 - accuracy: 0.9604 - val_loss: 0.4797 - val_accuracy: 0.8464\n",
            "140/140 [==============================] - 3s 20ms/step\n",
            "Accuracy: 0.859\n",
            "Precision: 0.849\n",
            "Recall: 0.879\n",
            "F1 Score: 0.864\n",
            "AUC-ROC: 0.941\n"
          ]
        },
        {
          "output_type": "display_data",
          "data": {
            "text/plain": [
              "<Figure size 600x400 with 2 Axes>"
            ],
            "image/png": "[encoded data removed]"
          },
          "metadata": {}
        },
        {
          "output_type": "stream",
          "name": "stdout",
          "text": [
            "\n",
            "--- LSTM: 50.0% real data ---\n",
            "Using 25000 real samples and 25000 synthetic samples.\n",
            "Epoch 1/10\n",
            "656/656 [==============================] - 93s 134ms/step - loss: 0.4227 - accuracy: 0.7973 - val_loss: 0.3439 - val_accuracy: 0.8435\n",
            "Epoch 2/10\n",
            "656/656 [==============================] - 86s 131ms/step - loss: 0.2925 - accuracy: 0.8769 - val_loss: 0.3356 - val_accuracy: 0.8521\n",
            "Epoch 3/10\n",
            "656/656 [==============================] - 86s 132ms/step - loss: 0.2403 - accuracy: 0.9013 - val_loss: 0.3653 - val_accuracy: 0.8514\n",
            "Epoch 4/10\n",
            "656/656 [==============================] - 86s 131ms/step - loss: 0.1860 - accuracy: 0.9259 - val_loss: 0.3993 - val_accuracy: 0.8392\n",
            "Epoch 5/10\n",
            "656/656 [==============================] - 86s 132ms/step - loss: 0.1406 - accuracy: 0.9452 - val_loss: 0.4815 - val_accuracy: 0.8391\n",
            "219/219 [==============================] - 5s 20ms/step\n",
            "Accuracy: 0.849\n",
            "Precision: 0.850\n",
            "Recall: 0.850\n",
            "F1 Score: 0.850\n",
            "AUC-ROC: 0.932\n"
          ]
        },
        {
          "output_type": "display_data",
          "data": {
            "text/plain": [
              "<Figure size 600x400 with 2 Axes>"
            ],
            "image/png": "[encoded data removed]"
          },
          "metadata": {}
        },
        {
          "output_type": "stream",
          "name": "stdout",
          "text": [
            "\n",
            "--- LSTM: 75.0% real data ---\n",
            "Using 37500 real samples and 12500 synthetic samples.\n",
            "Epoch 1/10\n",
            "890/890 [==============================] - 123s 133ms/step - loss: 0.4273 - accuracy: 0.7918 - val_loss: 0.3522 - val_accuracy: 0.8392\n",
            "Epoch 2/10\n",
            "890/890 [==============================] - 117s 132ms/step - loss: 0.3022 - accuracy: 0.8702 - val_loss: 0.3464 - val_accuracy: 0.8456\n",
            "Epoch 3/10\n",
            "890/890 [==============================] - 118s 132ms/step - loss: 0.2506 - accuracy: 0.8955 - val_loss: 0.3560 - val_accuracy: 0.8420\n",
            "Epoch 4/10\n",
            "890/890 [==============================] - 117s 131ms/step - loss: 0.2042 - accuracy: 0.9174 - val_loss: 0.3936 - val_accuracy: 0.8412\n",
            "Epoch 5/10\n",
            "890/890 [==============================] - 117s 132ms/step - loss: 0.1649 - accuracy: 0.9356 - val_loss: 0.4399 - val_accuracy: 0.8371\n",
            "297/297 [==============================] - 6s 20ms/step\n",
            "Accuracy: 0.839\n",
            "Precision: 0.872\n",
            "Recall: 0.793\n",
            "F1 Score: 0.831\n",
            "AUC-ROC: 0.922\n"
          ]
        },
        {
          "output_type": "display_data",
          "data": {
            "text/plain": [
              "<Figure size 600x400 with 2 Axes>"
            ],
            "image/png": "[encoded data removed]"
          },
          "metadata": {}
        },
        {
          "output_type": "stream",
          "name": "stdout",
          "text": [
            "\n",
            "--- LSTM: 100% real data ---\n",
            "Using 50000 real samples and 0 synthetic samples.\n",
            "Epoch 1/10\n",
            "938/938 [==============================] - 133s 135ms/step - loss: 0.4661 - accuracy: 0.7735 - val_loss: 0.3882 - val_accuracy: 0.8243\n",
            "Epoch 2/10\n",
            "938/938 [==============================] - 126s 134ms/step - loss: 0.3422 - accuracy: 0.8527 - val_loss: 0.3876 - val_accuracy: 0.8325\n",
            "Epoch 3/10\n",
            "938/938 [==============================] - 126s 135ms/step - loss: 0.2886 - accuracy: 0.8789 - val_loss: 0.4085 - val_accuracy: 0.8197\n",
            "Epoch 4/10\n",
            "938/938 [==============================] - 126s 134ms/step - loss: 0.2362 - accuracy: 0.9061 - val_loss: 0.4341 - val_accuracy: 0.8094\n",
            "Epoch 5/10\n",
            "938/938 [==============================] - 127s 135ms/step - loss: 0.1891 - accuracy: 0.9252 - val_loss: 0.5096 - val_accuracy: 0.8187\n",
            "313/313 [==============================] - 7s 20ms/step\n",
            "Accuracy: 0.834\n",
            "Precision: 0.833\n",
            "Recall: 0.837\n",
            "F1 Score: 0.835\n",
            "AUC-ROC: 0.915\n"
          ]
        },
        {
          "output_type": "display_data",
          "data": {
            "text/plain": [
              "<Figure size 600x400 with 2 Axes>"
            ],
            "image/png": "[encoded data removed]"
          },
          "metadata": {}
        },
        {
          "output_type": "stream",
          "name": "stdout",
          "text": [
            "LSTM Results:\n",
            "{0: {'accuracy': 0.9504752376188094, 'f1_score': 0.9492567913890313, 'auc': 0.9924680462568474}, 0.25: {'accuracy': 0.8590318242940386, 'f1_score': 0.8635278802343241, 'auc': 0.9413922858885436}, 0.5: {'accuracy': 0.8488272311212814, 'f1_score': 0.8499645138396026, 'auc': 0.9318737259876908}, 0.75: {'accuracy': 0.8386382799325464, 'f1_score': 0.8305103509354589, 'auc': 0.92247204855624}, 1: {'accuracy': 0.8338, 'f1_score': 0.835053592695514, 'auc': 0.9148122485121134}}\n"
          ]
        }
      ]
    },
    {
      "cell_type": "code",
      "source": [
        "def get_new_bert_model_and_tokenizer():\n",
        "    tokenizer = BertTokenizer.from_pretrained('bert-base-uncased')\n",
        "    model = TFBertForSequenceClassification.from_pretrained('bert-base-uncased', num_labels=2)\n",
        "    return tokenizer, model\n",
        "\n",
        "# Helper to prepare tf.data.Dataset\n",
        "def prepare_dataset(tokenizer, X, y, batch_size=32, max_length=100):\n",
        "    encodings = tokenizer(X.tolist(), truncation=True, padding=True, max_length=max_length)\n",
        "    dataset = tf.data.Dataset.from_tensor_slices((dict(encodings), y))\n",
        "    return dataset.shuffle(1000).batch(batch_size)\n",
        "\n"
      ],
      "metadata": {
        "id": "DpJoZ9kgM2xw"
      },
      "execution_count": null,
      "outputs": []
    },
    {
      "cell_type": "code",
      "source": [
        "print(\"\\n--- BERT: 0% real data ---\")\n",
        "K.clear_session()\n",
        "gc.collect()\n",
        "tf.keras.backend.clear_session()\n",
        "\n",
        "X_train, X_val, X_test, y_train, y_val, y_test = prepare_data_for_training(real_data, synthetic_data, real_ratio=0.0)\n",
        "bert_tokenizer, bert_model_instance = get_new_bert_model_and_tokenizer()\n",
        "\n",
        "train_dataset = prepare_dataset(bert_tokenizer, X_train, y_train)\n",
        "val_dataset = prepare_dataset(bert_tokenizer, X_val, y_val)\n",
        "test_encodings = bert_tokenizer(X_test.tolist(), truncation=True, padding=True, max_length=100, return_tensors=\"tf\")\n",
        "\n",
        "bert_model_instance.compile(optimizer=tf.keras.optimizers.Adam(learning_rate=2e-5),\n",
        "                            loss=tf.keras.losses.SparseCategoricalCrossentropy(from_logits=True),\n",
        "                            metrics=['accuracy'])\n",
        "\n",
        "bert_model_instance.fit(train_dataset,\n",
        "                        validation_data=val_dataset,\n",
        "                        epochs=10,\n",
        "                        callbacks=[tf.keras.callbacks.EarlyStopping(patience=2, restore_best_weights=True)])\n",
        "\n",
        "evaluate_model(bert_model_instance, test_encodings, y_test, model_type='bert', model_name='BERT', ratio=0)\n"
      ],
      "metadata": {
        "colab": {
          "base_uri": "https://localhost:8080/",
          "height": 1000,
          "referenced_widgets": [
            "580076ad6d0d4dee9abfe66c24fddd7b",
            "e70263767f9242d89486b5d17a8422d8",
            "7f0c056840ab4f5db42575d8f4b9ff84",
            "8c072b94ec724efbbbe816159ee93a28",
            "e29203ebda9b4c5a8b5b33c5c1472761",
            "604ab7359bbb412fb5700639c3a1eabc",
            "6bc3a41fbd5943c2acaec2c23357d5f9",
            "eb564c29733b4e4dbd81eb062b36b60b",
            "0db3056911e74a7db36402014dd634b2",
            "8b2e72222407483bb7d9580dafcf24f0",
            "76d51a9348bd437291dbdfe9ddda6a64",
            "ab0644ec0c134153b2a68b479883558b",
            "c9630800f973467793a0189ad2d2f14a",
            "7a99f8af0f644dc1bd0842cc1463dad1",
            "155de6c1f3334f59b4971c1b80e6c827",
            "9dd67af4ef9846a6a335d693ef5458c5",
            "3f9c5b893941461aa5b6aab2dd9ea641",
            "8be15ddc57af48b58cbfe08f7129e8f2",
            "073c2bb1d058452e8afbcf249d44b797",
            "6c7a27c883cb4f94b66e2dc8ad81083b",
            "c74c51a3c35d483098040211f4c1836e",
            "bb56cadde62d4a7a87317c688ffad6af",
            "6bb77d5b676c4ccf9633a5bf58a0ff4f",
            "352917c8efd44156b27f470e93aef7e1",
            "c5010821baa34c15a21e8b709dbf1e83",
            "0e11b2204483439b913fd1caf3d940ba",
            "2b1bd02a220646d294ca2ccb90ffacc8",
            "0cd449e15a964f42b910985827fc3955",
            "dc30351f708c44389417faddde028bb1",
            "822549c4020048b1b4b3584dbdb220d4",
            "c05feb2ec10c4d3aa089e4a90857ee50",
            "33b94bcfd55b49048f7856c619c95fea",
            "223057d67f19415095d0c04393b2f050",
            "027cab67bf254f3d9b61634091f90f27",
            "f0838d3a67244e51bdc35c70d5f02154",
            "47122d04235f45bd9308c686d6426b41",
            "33f4ed09d77141348daaa4951e03191e",
            "79238807c1c94ac1bd135e28acc1c8fd",
            "c36d020ab5da4b6eae1263d67d82416f",
            "5dad288920ad488ca6d933d71fd0e8c7",
            "50b9606f5be3492f8b57d63832a86179",
            "a3108ef2c0e64ce29354fa797b1ef609",
            "c408f34e746341d1b295baad10e1e439",
            "48aeb5e2d0b3498f956251e58dcde831",
            "065a14e56ac0499ba2fcc168bf5ddeab",
            "59a46e9547174c459cf160ea119078a5",
            "9c431521246b43ca8a01c47fd96c0b02",
            "87a697d55b9649a6991ef1932097afbe",
            "4f47bd30ca034b11983480b2e428fe5d",
            "d6939b3e0f3e4730be6d5246c9f9f923",
            "9b148dec6fa942da91fb6d9e64c499aa",
            "d18f9b671b2e4577a21ac81c66aaf338",
            "9544225a83864e43ab0e0ce1c880c5b3",
            "c9eb98df795a432f809c2f23dde7bce2",
            "2155cf4f2675440581fce1916876292d"
          ]
        },
        "id": "EqB0K0EyUc5X",
        "outputId": "1bf4f07e-b308-48c3-9058-3e17e0b0bd9c"
      },
      "execution_count": null,
      "outputs": [
        {
          "output_type": "stream",
          "name": "stdout",
          "text": [
            "\n",
            "--- BERT: 0% real data ---\n",
            "Using 0 real samples and 50000 synthetic samples.\n"
          ]
        },
        {
          "output_type": "stream",
          "name": "stderr",
          "text": [
            "/usr/local/lib/python3.11/dist-packages/huggingface_hub/file_download.py:797: FutureWarning: `resume_download` is deprecated and will be removed in version 1.0.0. Downloads always resume when possible. If you want to force a new download, use `force_download=True`.\n",
            "  warnings.warn(\n",
            "/usr/local/lib/python3.11/dist-packages/huggingface_hub/utils/_auth.py:94: UserWarning: \n",
            "The secret `HF_TOKEN` does not exist in your Colab secrets.\n",
            "To authenticate with the Hugging Face Hub, create a token in your settings tab (https://huggingface.co/settings/tokens), set it as secret in your Google Colab and restart your session.\n",
            "You will be able to reuse this secret in all of your notebooks.\n",
            "Please note that authentication is recommended but still optional to access public models or datasets.\n",
            "  warnings.warn(\n"
          ]
        },
        {
          "output_type": "display_data",
          "data": {
            "text/plain": [
              "tokenizer_config.json:   0%|          | 0.00/48.0 [00:00<?, ?B/s]"
            ],
            "application/vnd.jupyter.widget-view+json": {
              "version_major": 2,
              "version_minor": 0,
              "model_id": "580076ad6d0d4dee9abfe66c24fddd7b"
            }
          },
          "metadata": {}
        },
        {
          "output_type": "display_data",
          "data": {
            "text/plain": [
              "vocab.txt:   0%|          | 0.00/232k [00:00<?, ?B/s]"
            ],
            "application/vnd.jupyter.widget-view+json": {
              "version_major": 2,
              "version_minor": 0,
              "model_id": "ab0644ec0c134153b2a68b479883558b"
            }
          },
          "metadata": {}
        },
        {
          "output_type": "display_data",
          "data": {
            "text/plain": [
              "tokenizer.json:   0%|          | 0.00/466k [00:00<?, ?B/s]"
            ],
            "application/vnd.jupyter.widget-view+json": {
              "version_major": 2,
              "version_minor": 0,
              "model_id": "6bb77d5b676c4ccf9633a5bf58a0ff4f"
            }
          },
          "metadata": {}
        },
        {
          "output_type": "display_data",
          "data": {
            "text/plain": [
              "config.json:   0%|          | 0.00/570 [00:00<?, ?B/s]"
            ],
            "application/vnd.jupyter.widget-view+json": {
              "version_major": 2,
              "version_minor": 0,
              "model_id": "027cab67bf254f3d9b61634091f90f27"
            }
          },
          "metadata": {}
        },
        {
          "output_type": "display_data",
          "data": {
            "text/plain": [
              "model.safetensors:   0%|          | 0.00/440M [00:00<?, ?B/s]"
            ],
            "application/vnd.jupyter.widget-view+json": {
              "version_major": 2,
              "version_minor": 0,
              "model_id": "065a14e56ac0499ba2fcc168bf5ddeab"
            }
          },
          "metadata": {}
        },
        {
          "output_type": "stream",
          "name": "stderr",
          "text": [
            "All PyTorch model weights were used when initializing TFBertForSequenceClassification.\n",
            "\n",
            "Some weights or buffers of the TF 2.0 model TFBertForSequenceClassification were not initialized from the PyTorch model and are newly initialized: ['classifier.weight', 'classifier.bias']\n",
            "You should probably TRAIN this model on a down-stream task to be able to use it for predictions and inference.\n"
          ]
        },
        {
          "output_type": "stream",
          "name": "stdout",
          "text": [
            "Epoch 1/10\n",
            "188/188 [==============================] - 499s 3s/step - loss: 0.1928 - accuracy: 0.9253 - val_loss: 0.0924 - val_accuracy: 0.9610\n",
            "Epoch 2/10\n",
            "188/188 [==============================] - 460s 2s/step - loss: 0.0636 - accuracy: 0.9761 - val_loss: 0.0895 - val_accuracy: 0.9645\n",
            "Epoch 3/10\n",
            "188/188 [==============================] - 456s 2s/step - loss: 0.0267 - accuracy: 0.9910 - val_loss: 0.1305 - val_accuracy: 0.9600\n",
            "Epoch 4/10\n",
            "188/188 [==============================] - 457s 2s/step - loss: 0.0149 - accuracy: 0.9948 - val_loss: 0.1197 - val_accuracy: 0.9660\n",
            "63/63 [==============================] - 49s 718ms/step\n",
            "Accuracy: 0.972\n",
            "Precision: 0.988\n",
            "Recall: 0.956\n",
            "F1 Score: 0.971\n",
            "AUC-ROC: 0.996\n"
          ]
        },
        {
          "output_type": "display_data",
          "data": {
            "text/plain": [
              "<Figure size 600x400 with 2 Axes>"
            ],
            "image/png": "[encoded data removed]"
          },
          "metadata": {}
        },
        {
          "output_type": "execute_result",
          "data": {
            "text/plain": [
              "(0.9719859929964982,\n",
              " 0.9875,\n",
              " 0.9556451612903226,\n",
              " 0.9713114754098361,\n",
              " 0.9961609459589326)"
            ]
          },
          "metadata": {},
          "execution_count": 38
        }
      ]
    },
    {
      "cell_type": "code",
      "source": [
        "print(\"\\n--- BERT: 25% real data ---\")\n",
        "K.clear_session()\n",
        "gc.collect()\n",
        "tf.keras.backend.clear_session()\n",
        "\n",
        "X_train, X_val, X_test, y_train, y_val, y_test = prepare_data_for_training(real_data, synthetic_data, real_ratio=0.25)\n",
        "bert_tokenizer, bert_model_instance = get_new_bert_model_and_tokenizer()\n",
        "\n",
        "train_dataset = prepare_dataset(bert_tokenizer, X_train, y_train)\n",
        "val_dataset = prepare_dataset(bert_tokenizer, X_val, y_val)\n",
        "test_encodings = bert_tokenizer(X_test.tolist(), truncation=True, padding=True, max_length=100, return_tensors=\"tf\")\n",
        "\n",
        "bert_model_instance.compile(optimizer=tf.keras.optimizers.Adam(learning_rate=2e-5),\n",
        "                            loss=tf.keras.losses.SparseCategoricalCrossentropy(from_logits=True),\n",
        "                            metrics=['accuracy'])\n",
        "\n",
        "bert_model_instance.fit(train_dataset,\n",
        "                        validation_data=val_dataset,\n",
        "                        epochs=10,\n",
        "                        callbacks=[tf.keras.callbacks.EarlyStopping(patience=2, restore_best_weights=True)])\n",
        "\n",
        "evaluate_model(bert_model_instance, test_encodings, y_test, model_type='bert', model_name='BERT', ratio=25)\n"
      ],
      "metadata": {
        "id": "B42iuce7UgAe",
        "colab": {
          "base_uri": "https://localhost:8080/",
          "height": 916
        },
        "outputId": "1aaf30ae-9aa5-483c-8922-f39a1c5c4432"
      },
      "execution_count": null,
      "outputs": [
        {
          "output_type": "stream",
          "name": "stdout",
          "text": [
            "\n",
            "--- BERT: 25% real data ---\n",
            "Using 12500 real samples and 37500 synthetic samples.\n"
          ]
        },
        {
          "output_type": "stream",
          "name": "stderr",
          "text": [
            "/usr/local/lib/python3.11/dist-packages/huggingface_hub/file_download.py:797: FutureWarning: `resume_download` is deprecated and will be removed in version 1.0.0. Downloads always resume when possible. If you want to force a new download, use `force_download=True`.\n",
            "  warnings.warn(\n",
            "All PyTorch model weights were used when initializing TFBertForSequenceClassification.\n",
            "\n",
            "Some weights or buffers of the TF 2.0 model TFBertForSequenceClassification were not initialized from the PyTorch model and are newly initialized: ['classifier.weight', 'classifier.bias']\n",
            "You should probably TRAIN this model on a down-stream task to be able to use it for predictions and inference.\n"
          ]
        },
        {
          "output_type": "stream",
          "name": "stdout",
          "text": [
            "Epoch 1/10\n",
            "419/419 [==============================] - 1387s 3s/step - loss: 0.3112 - accuracy: 0.8571 - val_loss: 0.2497 - val_accuracy: 0.8937\n",
            "Epoch 2/10\n",
            "419/419 [==============================] - 1348s 3s/step - loss: 0.1621 - accuracy: 0.9355 - val_loss: 0.2404 - val_accuracy: 0.8985\n",
            "Epoch 3/10\n",
            "419/419 [==============================] - 1352s 3s/step - loss: 0.0768 - accuracy: 0.9730 - val_loss: 0.3037 - val_accuracy: 0.8935\n",
            "Epoch 4/10\n",
            "419/419 [==============================] - 1342s 3s/step - loss: 0.0372 - accuracy: 0.9877 - val_loss: 0.3806 - val_accuracy: 0.8902\n",
            "140/140 [==============================] - 124s 857ms/step\n",
            "Accuracy: 0.902\n",
            "Precision: 0.911\n",
            "Recall: 0.893\n",
            "F1 Score: 0.902\n",
            "AUC-ROC: 0.969\n"
          ]
        },
        {
          "output_type": "display_data",
          "data": {
            "text/plain": [
              "<Figure size 600x400 with 2 Axes>"
            ],
            "image/png": "[encoded data removed]"
          },
          "metadata": {}
        },
        {
          "output_type": "execute_result",
          "data": {
            "text/plain": [
              "(0.9016136261766025,\n",
              " 0.9112612612612613,\n",
              " 0.8931567328918323,\n",
              " 0.902118171683389,\n",
              " 0.9690280042723319)"
            ]
          },
          "metadata": {},
          "execution_count": 39
        }
      ]
    },
    {
      "cell_type": "code",
      "source": [
        "print(\"\\n--- BERT: 50% real data ---\")\n",
        "K.clear_session()\n",
        "gc.collect()\n",
        "tf.keras.backend.clear_session()\n",
        "\n",
        "X_train, X_val, X_test, y_train, y_val, y_test = prepare_data_for_training(real_data, synthetic_data, real_ratio=0.5)\n",
        "bert_tokenizer, bert_model_instance = get_new_bert_model_and_tokenizer()\n",
        "\n",
        "train_dataset = prepare_dataset(bert_tokenizer, X_train, y_train)\n",
        "val_dataset = prepare_dataset(bert_tokenizer, X_val, y_val)\n",
        "test_encodings = bert_tokenizer(X_test.tolist(), truncation=True, padding=True, max_length=100, return_tensors=\"tf\")\n",
        "\n",
        "bert_model_instance.compile(optimizer=tf.keras.optimizers.Adam(learning_rate=2e-5),\n",
        "                            loss=tf.keras.losses.SparseCategoricalCrossentropy(from_logits=True),\n",
        "                            metrics=['accuracy'])\n",
        "\n",
        "bert_model_instance.fit(train_dataset,\n",
        "                        validation_data=val_dataset,\n",
        "                        epochs=10,\n",
        "                        callbacks=[tf.keras.callbacks.EarlyStopping(patience=2, restore_best_weights=True)])\n",
        "\n",
        "evaluate_model(bert_model_instance, test_encodings, y_test, model_type='bert', model_name='BERT', ratio=50)\n"
      ],
      "metadata": {
        "id": "M5UDmn5CUjTV",
        "colab": {
          "base_uri": "https://localhost:8080/",
          "height": 881
        },
        "outputId": "d6fc3f24-fe13-406c-f18b-335ac9e5de6d"
      },
      "execution_count": null,
      "outputs": [
        {
          "output_type": "stream",
          "name": "stdout",
          "text": [
            "\n",
            "--- BERT: 50% real data ---\n",
            "Using 25000 real samples and 25000 synthetic samples.\n"
          ]
        },
        {
          "output_type": "stream",
          "name": "stderr",
          "text": [
            "/usr/local/lib/python3.11/dist-packages/huggingface_hub/file_download.py:797: FutureWarning: `resume_download` is deprecated and will be removed in version 1.0.0. Downloads always resume when possible. If you want to force a new download, use `force_download=True`.\n",
            "  warnings.warn(\n",
            "All PyTorch model weights were used when initializing TFBertForSequenceClassification.\n",
            "\n",
            "Some weights or buffers of the TF 2.0 model TFBertForSequenceClassification were not initialized from the PyTorch model and are newly initialized: ['classifier.weight', 'classifier.bias']\n",
            "You should probably TRAIN this model on a down-stream task to be able to use it for predictions and inference.\n"
          ]
        },
        {
          "output_type": "stream",
          "name": "stdout",
          "text": [
            "Epoch 1/10\n",
            "656/656 [==============================] - 2117s 3s/step - loss: 0.3227 - accuracy: 0.8516 - val_loss: 0.2604 - val_accuracy: 0.8864\n",
            "Epoch 2/10\n",
            "656/656 [==============================] - 2086s 3s/step - loss: 0.1812 - accuracy: 0.9256 - val_loss: 0.3023 - val_accuracy: 0.8907\n",
            "Epoch 3/10\n",
            "656/656 [==============================] - 2101s 3s/step - loss: 0.0984 - accuracy: 0.9630 - val_loss: 0.2939 - val_accuracy: 0.8923\n",
            "219/219 [==============================] - 192s 858ms/step\n",
            "Accuracy: 0.880\n",
            "Precision: 0.918\n",
            "Recall: 0.837\n",
            "F1 Score: 0.876\n",
            "AUC-ROC: 0.960\n"
          ]
        },
        {
          "output_type": "display_data",
          "data": {
            "text/plain": [
              "<Figure size 600x400 with 2 Axes>"
            ],
            "image/png": "[encoded data removed]"
          },
          "metadata": {}
        },
        {
          "output_type": "execute_result",
          "data": {
            "text/plain": [
              "(0.8802917620137299,\n",
              " 0.9181450357920946,\n",
              " 0.837116912599319,\n",
              " 0.8757607243580229,\n",
              " 0.9599366905071436)"
            ]
          },
          "metadata": {},
          "execution_count": 40
        }
      ]
    },
    {
      "cell_type": "code",
      "source": [
        "print(\"\\n--- BERT: 75% real data ---\")\n",
        "K.clear_session()\n",
        "gc.collect()\n",
        "tf.keras.backend.clear_session()\n",
        "\n",
        "X_train, X_val, X_test, y_train, y_val, y_test = prepare_data_for_training(real_data, synthetic_data, real_ratio=0.75)\n",
        "bert_tokenizer, bert_model_instance = get_new_bert_model_and_tokenizer()\n",
        "\n",
        "train_dataset = prepare_dataset(bert_tokenizer, X_train, y_train)\n",
        "val_dataset = prepare_dataset(bert_tokenizer, X_val, y_val)\n",
        "test_encodings = bert_tokenizer(X_test.tolist(), truncation=True, padding=True, max_length=100, return_tensors=\"tf\")\n",
        "\n",
        "bert_model_instance.compile(optimizer=tf.keras.optimizers.Adam(learning_rate=2e-5),\n",
        "                            loss=tf.keras.losses.SparseCategoricalCrossentropy(from_logits=True),\n",
        "                            metrics=['accuracy'])\n",
        "\n",
        "bert_model_instance.fit(train_dataset,\n",
        "                        validation_data=val_dataset,\n",
        "                        epochs=10,\n",
        "                        callbacks=[tf.keras.callbacks.EarlyStopping(patience=2, restore_best_weights=True)])\n",
        "\n",
        "evaluate_model(bert_model_instance, test_encodings, y_test, model_type='bert', model_name='BERT', ratio=75)\n"
      ],
      "metadata": {
        "id": "QmFty30HUmBF",
        "colab": {
          "base_uri": "https://localhost:8080/",
          "height": 881
        },
        "outputId": "0ccc85f6-91b6-4cba-fd8f-a3ada09c1f21"
      },
      "execution_count": null,
      "outputs": [
        {
          "output_type": "stream",
          "name": "stdout",
          "text": [
            "\n",
            "--- BERT: 75% real data ---\n",
            "Using 37500 real samples and 12500 synthetic samples.\n"
          ]
        },
        {
          "output_type": "stream",
          "name": "stderr",
          "text": [
            "/usr/local/lib/python3.11/dist-packages/huggingface_hub/file_download.py:797: FutureWarning: `resume_download` is deprecated and will be removed in version 1.0.0. Downloads always resume when possible. If you want to force a new download, use `force_download=True`.\n",
            "  warnings.warn(\n",
            "All PyTorch model weights were used when initializing TFBertForSequenceClassification.\n",
            "\n",
            "Some weights or buffers of the TF 2.0 model TFBertForSequenceClassification were not initialized from the PyTorch model and are newly initialized: ['classifier.weight', 'classifier.bias']\n",
            "You should probably TRAIN this model on a down-stream task to be able to use it for predictions and inference.\n"
          ]
        },
        {
          "output_type": "stream",
          "name": "stdout",
          "text": [
            "Epoch 1/10\n",
            "890/890 [==============================] - 2826s 3s/step - loss: 0.3219 - accuracy: 0.8547 - val_loss: 0.2737 - val_accuracy: 0.8795\n",
            "Epoch 2/10\n",
            "890/890 [==============================] - 2811s 3s/step - loss: 0.1904 - accuracy: 0.9240 - val_loss: 0.3007 - val_accuracy: 0.8805\n",
            "Epoch 3/10\n",
            "890/890 [==============================] - 2793s 3s/step - loss: 0.1015 - accuracy: 0.9628 - val_loss: 0.3911 - val_accuracy: 0.8832\n",
            "297/297 [==============================] - 261s 865ms/step\n",
            "Accuracy: 0.879\n",
            "Precision: 0.853\n",
            "Recall: 0.914\n",
            "F1 Score: 0.883\n",
            "AUC-ROC: 0.956\n"
          ]
        },
        {
          "output_type": "display_data",
          "data": {
            "text/plain": [
              "<Figure size 600x400 with 2 Axes>"
            ],
            "image/png": "[encoded data removed]"
          },
          "metadata": {}
        },
        {
          "output_type": "execute_result",
          "data": {
            "text/plain": [
              "(0.8786888701517707,\n",
              " 0.8531965272296764,\n",
              " 0.9139716761783978,\n",
              " 0.8825390345953669,\n",
              " 0.9563813822720598)"
            ]
          },
          "metadata": {},
          "execution_count": 41
        }
      ]
    },
    {
      "cell_type": "code",
      "source": [
        "print(\"\\n--- BERT: 100% real data ---\")\n",
        "K.clear_session()\n",
        "gc.collect()\n",
        "tf.keras.backend.clear_session()\n",
        "\n",
        "X_train, X_val, X_test, y_train, y_val, y_test = prepare_data_for_training(real_data, synthetic_data, real_ratio=1.0)\n",
        "bert_tokenizer, bert_model_instance = get_new_bert_model_and_tokenizer()\n",
        "\n",
        "train_dataset = prepare_dataset(bert_tokenizer, X_train, y_train)\n",
        "val_dataset = prepare_dataset(bert_tokenizer, X_val, y_val)\n",
        "test_encodings = bert_tokenizer(X_test.tolist(), truncation=True, padding=True, max_length=100, return_tensors=\"tf\")\n",
        "\n",
        "bert_model_instance.compile(optimizer=tf.keras.optimizers.Adam(learning_rate=2e-5),\n",
        "                            loss=tf.keras.losses.SparseCategoricalCrossentropy(from_logits=True),\n",
        "                            metrics=['accuracy'])\n",
        "\n",
        "bert_model_instance.fit(train_dataset,\n",
        "                        validation_data=val_dataset,\n",
        "                        epochs=10,\n",
        "                        callbacks=[tf.keras.callbacks.EarlyStopping(patience=2, restore_best_weights=True)])\n",
        "\n",
        "evaluate_model(bert_model_instance, test_encodings, y_test, model_type='bert', model_name='BERT', ratio=100)\n"
      ],
      "metadata": {
        "id": "iXiiXSSbUpfb",
        "colab": {
          "base_uri": "https://localhost:8080/",
          "height": 881
        },
        "outputId": "3be77654-ece5-4192-df81-e09d4e881e75"
      },
      "execution_count": null,
      "outputs": [
        {
          "output_type": "stream",
          "name": "stdout",
          "text": [
            "\n",
            "--- BERT: 100% real data ---\n",
            "Using 50000 real samples and 0 synthetic samples.\n"
          ]
        },
        {
          "output_type": "stream",
          "name": "stderr",
          "text": [
            "/usr/local/lib/python3.11/dist-packages/huggingface_hub/file_download.py:797: FutureWarning: `resume_download` is deprecated and will be removed in version 1.0.0. Downloads always resume when possible. If you want to force a new download, use `force_download=True`.\n",
            "  warnings.warn(\n",
            "All PyTorch model weights were used when initializing TFBertForSequenceClassification.\n",
            "\n",
            "Some weights or buffers of the TF 2.0 model TFBertForSequenceClassification were not initialized from the PyTorch model and are newly initialized: ['classifier.weight', 'classifier.bias']\n",
            "You should probably TRAIN this model on a down-stream task to be able to use it for predictions and inference.\n"
          ]
        },
        {
          "output_type": "stream",
          "name": "stdout",
          "text": [
            "Epoch 1/10\n",
            "938/938 [==============================] - 3014s 3s/step - loss: 0.3647 - accuracy: 0.8346 - val_loss: 0.2917 - val_accuracy: 0.8729\n",
            "Epoch 2/10\n",
            "938/938 [==============================] - 2978s 3s/step - loss: 0.2237 - accuracy: 0.9100 - val_loss: 0.3356 - val_accuracy: 0.8642\n",
            "Epoch 3/10\n",
            "938/938 [==============================] - 2948s 3s/step - loss: 0.1261 - accuracy: 0.9542 - val_loss: 0.4052 - val_accuracy: 0.8651\n",
            "313/313 [==============================] - 272s 858ms/step\n",
            "Accuracy: 0.872\n",
            "Precision: 0.860\n",
            "Recall: 0.891\n",
            "F1 Score: 0.875\n",
            "AUC-ROC: 0.948\n"
          ]
        },
        {
          "output_type": "display_data",
          "data": {
            "text/plain": [
              "<Figure size 600x400 with 2 Axes>"
            ],
            "image/png": "[encoded data removed]"
          },
          "metadata": {}
        },
        {
          "output_type": "execute_result",
          "data": {
            "text/plain": [
              "(0.8722,\n",
              " 0.8597467382962395,\n",
              " 0.8912092283214001,\n",
              " 0.8751953125,\n",
              " 0.9480853719572646)"
            ]
          },
          "metadata": {},
          "execution_count": 42
        }
      ]
    }
  ],
  "metadata": {
    "accelerator": "TPU",
    "colab": {
      "gpuType": "V28",
      "machine_shape": "hm",
      "provenance": []
    },
    "kernelspec": {
      "display_name": "Python 3",
      "name": "python3"
    },
    "language_info": {
      "name": "python"
    },
    "widgets": {
      "application/vnd.jupyter.widget-state+json": {
        "580076ad6d0d4dee9abfe66c24fddd7b": {
          "model_module": "@jupyter-widgets/controls",
          "model_name": "HBoxModel",
          "model_module_version": "1.5.0",
          "state": {
            "_dom_classes": [],
            "_model_module": "@jupyter-widgets/controls",
            "_model_module_version": "1.5.0",
            "_model_name": "HBoxModel",
            "_view_count": null,
            "_view_module": "@jupyter-widgets/controls",
            "_view_module_version": "1.5.0",
            "_view_name": "HBoxView",
            "box_style": "",
            "children": [
              "IPY_MODEL_e70263767f9242d89486b5d17a8422d8",
              "IPY_MODEL_7f0c056840ab4f5db42575d8f4b9ff84",
              "IPY_MODEL_8c072b94ec724efbbbe816159ee93a28"
            ],
            "layout": "IPY_MODEL_e29203ebda9b4c5a8b5b33c5c1472761"
          }
        },
        "e70263767f9242d89486b5d17a8422d8": {
          "model_module": "@jupyter-widgets/controls",
          "model_name": "HTMLModel",
          "model_module_version": "1.5.0",
          "state": {
            "_dom_classes": [],
            "_model_module": "@jupyter-widgets/controls",
            "_model_module_version": "1.5.0",
            "_model_name": "HTMLModel",
            "_view_count": null,
            "_view_module": "@jupyter-widgets/controls",
            "_view_module_version": "1.5.0",
            "_view_name": "HTMLView",
            "description": "",
            "description_tooltip": null,
            "layout": "IPY_MODEL_604ab7359bbb412fb5700639c3a1eabc",
            "placeholder": "​",
            "style": "IPY_MODEL_6bc3a41fbd5943c2acaec2c23357d5f9",
            "value": "tokenizer_config.json: 100%"
          }
        },
        "7f0c056840ab4f5db42575d8f4b9ff84": {
          "model_module": "@jupyter-widgets/controls",
          "model_name": "FloatProgressModel",
          "model_module_version": "1.5.0",
          "state": {
            "_dom_classes": [],
            "_model_module": "@jupyter-widgets/controls",
            "_model_module_version": "1.5.0",
            "_model_name": "FloatProgressModel",
            "_view_count": null,
            "_view_module": "@jupyter-widgets/controls",
            "_view_module_version": "1.5.0",
            "_view_name": "ProgressView",
            "bar_style": "success",
            "description": "",
            "description_tooltip": null,
            "layout": "IPY_MODEL_eb564c29733b4e4dbd81eb062b36b60b",
            "max": 48,
            "min": 0,
            "orientation": "horizontal",
            "style": "IPY_MODEL_0db3056911e74a7db36402014dd634b2",
            "value": 48
          }
        },
        "8c072b94ec724efbbbe816159ee93a28": {
          "model_module": "@jupyter-widgets/controls",
          "model_name": "HTMLModel",
          "model_module_version": "1.5.0",
          "state": {
            "_dom_classes": [],
            "_model_module": "@jupyter-widgets/controls",
            "_model_module_version": "1.5.0",
            "_model_name": "HTMLModel",
            "_view_count": null,
            "_view_module": "@jupyter-widgets/controls",
            "_view_module_version": "1.5.0",
            "_view_name": "HTMLView",
            "description": "",
            "description_tooltip": null,
            "layout": "IPY_MODEL_8b2e72222407483bb7d9580dafcf24f0",
            "placeholder": "​",
            "style": "IPY_MODEL_76d51a9348bd437291dbdfe9ddda6a64",
            "value": " 48.0/48.0 [00:00&lt;00:00, 5.41kB/s]"
          }
        },
        "e29203ebda9b4c5a8b5b33c5c1472761": {
          "model_module": "@jupyter-widgets/base",
          "model_name": "LayoutModel",
          "model_module_version": "1.2.0",
          "state": {
            "_model_module": "@jupyter-widgets/base",
            "_model_module_version": "1.2.0",
            "_model_name": "LayoutModel",
            "_view_count": null,
            "_view_module": "@jupyter-widgets/base",
            "_view_module_version": "1.2.0",
            "_view_name": "LayoutView",
            "align_content": null,
            "align_items": null,
            "align_self": null,
            "border": null,
            "bottom": null,
            "display": null,
            "flex": null,
            "flex_flow": null,
            "grid_area": null,
            "grid_auto_columns": null,
            "grid_auto_flow": null,
            "grid_auto_rows": null,
            "grid_column": null,
            "grid_gap": null,
            "grid_row": null,
            "grid_template_areas": null,
            "grid_template_columns": null,
            "grid_template_rows": null,
            "height": null,
            "justify_content": null,
            "justify_items": null,
            "left": null,
            "margin": null,
            "max_height": null,
            "max_width": null,
            "min_height": null,
            "min_width": null,
            "object_fit": null,
            "object_position": null,
            "order": null,
            "overflow": null,
            "overflow_x": null,
            "overflow_y": null,
            "padding": null,
            "right": null,
            "top": null,
            "visibility": null,
            "width": null
          }
        },
        "604ab7359bbb412fb5700639c3a1eabc": {
          "model_module": "@jupyter-widgets/base",
          "model_name": "LayoutModel",
          "model_module_version": "1.2.0",
          "state": {
            "_model_module": "@jupyter-widgets/base",
            "_model_module_version": "1.2.0",
            "_model_name": "LayoutModel",
            "_view_count": null,
            "_view_module": "@jupyter-widgets/base",
            "_view_module_version": "1.2.0",
            "_view_name": "LayoutView",
            "align_content": null,
            "align_items": null,
            "align_self": null,
            "border": null,
            "bottom": null,
            "display": null,
            "flex": null,
            "flex_flow": null,
            "grid_area": null,
            "grid_auto_columns": null,
            "grid_auto_flow": null,
            "grid_auto_rows": null,
            "grid_column": null,
            "grid_gap": null,
            "grid_row": null,
            "grid_template_areas": null,
            "grid_template_columns": null,
            "grid_template_rows": null,
            "height": null,
            "justify_content": null,
            "justify_items": null,
            "left": null,
            "margin": null,
            "max_height": null,
            "max_width": null,
            "min_height": null,
            "min_width": null,
            "object_fit": null,
            "object_position": null,
            "order": null,
            "overflow": null,
            "overflow_x": null,
            "overflow_y": null,
            "padding": null,
            "right": null,
            "top": null,
            "visibility": null,
            "width": null
          }
        },
        "6bc3a41fbd5943c2acaec2c23357d5f9": {
          "model_module": "@jupyter-widgets/controls",
          "model_name": "DescriptionStyleModel",
          "model_module_version": "1.5.0",
          "state": {
            "_model_module": "@jupyter-widgets/controls",
            "_model_module_version": "1.5.0",
            "_model_name": "DescriptionStyleModel",
            "_view_count": null,
            "_view_module": "@jupyter-widgets/base",
            "_view_module_version": "1.2.0",
            "_view_name": "StyleView",
            "description_width": ""
          }
        },
        "eb564c29733b4e4dbd81eb062b36b60b": {
          "model_module": "@jupyter-widgets/base",
          "model_name": "LayoutModel",
          "model_module_version": "1.2.0",
          "state": {
            "_model_module": "@jupyter-widgets/base",
            "_model_module_version": "1.2.0",
            "_model_name": "LayoutModel",
            "_view_count": null,
            "_view_module": "@jupyter-widgets/base",
            "_view_module_version": "1.2.0",
            "_view_name": "LayoutView",
            "align_content": null,
            "align_items": null,
            "align_self": null,
            "border": null,
            "bottom": null,
            "display": null,
            "flex": null,
            "flex_flow": null,
            "grid_area": null,
            "grid_auto_columns": null,
            "grid_auto_flow": null,
            "grid_auto_rows": null,
            "grid_column": null,
            "grid_gap": null,
            "grid_row": null,
            "grid_template_areas": null,
            "grid_template_columns": null,
            "grid_template_rows": null,
            "height": null,
            "justify_content": null,
            "justify_items": null,
            "left": null,
            "margin": null,
            "max_height": null,
            "max_width": null,
            "min_height": null,
            "min_width": null,
            "object_fit": null,
            "object_position": null,
            "order": null,
            "overflow": null,
            "overflow_x": null,
            "overflow_y": null,
            "padding": null,
            "right": null,
            "top": null,
            "visibility": null,
            "width": null
          }
        },
        "0db3056911e74a7db36402014dd634b2": {
          "model_module": "@jupyter-widgets/controls",
          "model_name": "ProgressStyleModel",
          "model_module_version": "1.5.0",
          "state": {
            "_model_module": "@jupyter-widgets/controls",
            "_model_module_version": "1.5.0",
            "_model_name": "ProgressStyleModel",
            "_view_count": null,
            "_view_module": "@jupyter-widgets/base",
            "_view_module_version": "1.2.0",
            "_view_name": "StyleView",
            "bar_color": null,
            "description_width": ""
          }
        },
        "8b2e72222407483bb7d9580dafcf24f0": {
          "model_module": "@jupyter-widgets/base",
          "model_name": "LayoutModel",
          "model_module_version": "1.2.0",
          "state": {
            "_model_module": "@jupyter-widgets/base",
            "_model_module_version": "1.2.0",
            "_model_name": "LayoutModel",
            "_view_count": null,
            "_view_module": "@jupyter-widgets/base",
            "_view_module_version": "1.2.0",
            "_view_name": "LayoutView",
            "align_content": null,
            "align_items": null,
            "align_self": null,
            "border": null,
            "bottom": null,
            "display": null,
            "flex": null,
            "flex_flow": null,
            "grid_area": null,
            "grid_auto_columns": null,
            "grid_auto_flow": null,
            "grid_auto_rows": null,
            "grid_column": null,
            "grid_gap": null,
            "grid_row": null,
            "grid_template_areas": null,
            "grid_template_columns": null,
            "grid_template_rows": null,
            "height": null,
            "justify_content": null,
            "justify_items": null,
            "left": null,
            "margin": null,
            "max_height": null,
            "max_width": null,
            "min_height": null,
            "min_width": null,
            "object_fit": null,
            "object_position": null,
            "order": null,
            "overflow": null,
            "overflow_x": null,
            "overflow_y": null,
            "padding": null,
            "right": null,
            "top": null,
            "visibility": null,
            "width": null
          }
        },
        "76d51a9348bd437291dbdfe9ddda6a64": {
          "model_module": "@jupyter-widgets/controls",
          "model_name": "DescriptionStyleModel",
          "model_module_version": "1.5.0",
          "state": {
            "_model_module": "@jupyter-widgets/controls",
            "_model_module_version": "1.5.0",
            "_model_name": "DescriptionStyleModel",
            "_view_count": null,
            "_view_module": "@jupyter-widgets/base",
            "_view_module_version": "1.2.0",
            "_view_name": "StyleView",
            "description_width": ""
          }
        },
        "ab0644ec0c134153b2a68b479883558b": {
          "model_module": "@jupyter-widgets/controls",
          "model_name": "HBoxModel",
          "model_module_version": "1.5.0",
          "state": {
            "_dom_classes": [],
            "_model_module": "@jupyter-widgets/controls",
            "_model_module_version": "1.5.0",
            "_model_name": "HBoxModel",
            "_view_count": null,
            "_view_module": "@jupyter-widgets/controls",
            "_view_module_version": "1.5.0",
            "_view_name": "HBoxView",
            "box_style": "",
            "children": [
              "IPY_MODEL_c9630800f973467793a0189ad2d2f14a",
              "IPY_MODEL_7a99f8af0f644dc1bd0842cc1463dad1",
              "IPY_MODEL_155de6c1f3334f59b4971c1b80e6c827"
            ],
            "layout": "IPY_MODEL_9dd67af4ef9846a6a335d693ef5458c5"
          }
        },
        "c9630800f973467793a0189ad2d2f14a": {
          "model_module": "@jupyter-widgets/controls",
          "model_name": "HTMLModel",
          "model_module_version": "1.5.0",
          "state": {
            "_dom_classes": [],
            "_model_module": "@jupyter-widgets/controls",
            "_model_module_version": "1.5.0",
            "_model_name": "HTMLModel",
            "_view_count": null,
            "_view_module": "@jupyter-widgets/controls",
            "_view_module_version": "1.5.0",
            "_view_name": "HTMLView",
            "description": "",
            "description_tooltip": null,
            "layout": "IPY_MODEL_3f9c5b893941461aa5b6aab2dd9ea641",
            "placeholder": "​",
            "style": "IPY_MODEL_8be15ddc57af48b58cbfe08f7129e8f2",
            "value": "vocab.txt: 100%"
          }
        },
        "7a99f8af0f644dc1bd0842cc1463dad1": {
          "model_module": "@jupyter-widgets/controls",
          "model_name": "FloatProgressModel",
          "model_module_version": "1.5.0",
          "state": {
            "_dom_classes": [],
            "_model_module": "@jupyter-widgets/controls",
            "_model_module_version": "1.5.0",
            "_model_name": "FloatProgressModel",
            "_view_count": null,
            "_view_module": "@jupyter-widgets/controls",
            "_view_module_version": "1.5.0",
            "_view_name": "ProgressView",
            "bar_style": "success",
            "description": "",
            "description_tooltip": null,
            "layout": "IPY_MODEL_073c2bb1d058452e8afbcf249d44b797",
            "max": 231508,
            "min": 0,
            "orientation": "horizontal",
            "style": "IPY_MODEL_6c7a27c883cb4f94b66e2dc8ad81083b",
            "value": 231508
          }
        },
        "155de6c1f3334f59b4971c1b80e6c827": {
          "model_module": "@jupyter-widgets/controls",
          "model_name": "HTMLModel",
          "model_module_version": "1.5.0",
          "state": {
            "_dom_classes": [],
            "_model_module": "@jupyter-widgets/controls",
            "_model_module_version": "1.5.0",
            "_model_name": "HTMLModel",
            "_view_count": null,
            "_view_module": "@jupyter-widgets/controls",
            "_view_module_version": "1.5.0",
            "_view_name": "HTMLView",
            "description": "",
            "description_tooltip": null,
            "layout": "IPY_MODEL_c74c51a3c35d483098040211f4c1836e",
            "placeholder": "​",
            "style": "IPY_MODEL_bb56cadde62d4a7a87317c688ffad6af",
            "value": " 232k/232k [00:00&lt;00:00, 6.37MB/s]"
          }
        },
        "9dd67af4ef9846a6a335d693ef5458c5": {
          "model_module": "@jupyter-widgets/base",
          "model_name": "LayoutModel",
          "model_module_version": "1.2.0",
          "state": {
            "_model_module": "@jupyter-widgets/base",
            "_model_module_version": "1.2.0",
            "_model_name": "LayoutModel",
            "_view_count": null,
            "_view_module": "@jupyter-widgets/base",
            "_view_module_version": "1.2.0",
            "_view_name": "LayoutView",
            "align_content": null,
            "align_items": null,
            "align_self": null,
            "border": null,
            "bottom": null,
            "display": null,
            "flex": null,
            "flex_flow": null,
            "grid_area": null,
            "grid_auto_columns": null,
            "grid_auto_flow": null,
            "grid_auto_rows": null,
            "grid_column": null,
            "grid_gap": null,
            "grid_row": null,
            "grid_template_areas": null,
            "grid_template_columns": null,
            "grid_template_rows": null,
            "height": null,
            "justify_content": null,
            "justify_items": null,
            "left": null,
            "margin": null,
            "max_height": null,
            "max_width": null,
            "min_height": null,
            "min_width": null,
            "object_fit": null,
            "object_position": null,
            "order": null,
            "overflow": null,
            "overflow_x": null,
            "overflow_y": null,
            "padding": null,
            "right": null,
            "top": null,
            "visibility": null,
            "width": null
          }
        },
        "3f9c5b893941461aa5b6aab2dd9ea641": {
          "model_module": "@jupyter-widgets/base",
          "model_name": "LayoutModel",
          "model_module_version": "1.2.0",
          "state": {
            "_model_module": "@jupyter-widgets/base",
            "_model_module_version": "1.2.0",
            "_model_name": "LayoutModel",
            "_view_count": null,
            "_view_module": "@jupyter-widgets/base",
            "_view_module_version": "1.2.0",
            "_view_name": "LayoutView",
            "align_content": null,
            "align_items": null,
            "align_self": null,
            "border": null,
            "bottom": null,
            "display": null,
            "flex": null,
            "flex_flow": null,
            "grid_area": null,
            "grid_auto_columns": null,
            "grid_auto_flow": null,
            "grid_auto_rows": null,
            "grid_column": null,
            "grid_gap": null,
            "grid_row": null,
            "grid_template_areas": null,
            "grid_template_columns": null,
            "grid_template_rows": null,
            "height": null,
            "justify_content": null,
            "justify_items": null,
            "left": null,
            "margin": null,
            "max_height": null,
            "max_width": null,
            "min_height": null,
            "min_width": null,
            "object_fit": null,
            "object_position": null,
            "order": null,
            "overflow": null,
            "overflow_x": null,
            "overflow_y": null,
            "padding": null,
            "right": null,
            "top": null,
            "visibility": null,
            "width": null
          }
        },
        "8be15ddc57af48b58cbfe08f7129e8f2": {
          "model_module": "@jupyter-widgets/controls",
          "model_name": "DescriptionStyleModel",
          "model_module_version": "1.5.0",
          "state": {
            "_model_module": "@jupyter-widgets/controls",
            "_model_module_version": "1.5.0",
            "_model_name": "DescriptionStyleModel",
            "_view_count": null,
            "_view_module": "@jupyter-widgets/base",
            "_view_module_version": "1.2.0",
            "_view_name": "StyleView",
            "description_width": ""
          }
        },
        "073c2bb1d058452e8afbcf249d44b797": {
          "model_module": "@jupyter-widgets/base",
          "model_name": "LayoutModel",
          "model_module_version": "1.2.0",
          "state": {
            "_model_module": "@jupyter-widgets/base",
            "_model_module_version": "1.2.0",
            "_model_name": "LayoutModel",
            "_view_count": null,
            "_view_module": "@jupyter-widgets/base",
            "_view_module_version": "1.2.0",
            "_view_name": "LayoutView",
            "align_content": null,
            "align_items": null,
            "align_self": null,
            "border": null,
            "bottom": null,
            "display": null,
            "flex": null,
            "flex_flow": null,
            "grid_area": null,
            "grid_auto_columns": null,
            "grid_auto_flow": null,
            "grid_auto_rows": null,
            "grid_column": null,
            "grid_gap": null,
            "grid_row": null,
            "grid_template_areas": null,
            "grid_template_columns": null,
            "grid_template_rows": null,
            "height": null,
            "justify_content": null,
            "justify_items": null,
            "left": null,
            "margin": null,
            "max_height": null,
            "max_width": null,
            "min_height": null,
            "min_width": null,
            "object_fit": null,
            "object_position": null,
            "order": null,
            "overflow": null,
            "overflow_x": null,
            "overflow_y": null,
            "padding": null,
            "right": null,
            "top": null,
            "visibility": null,
            "width": null
          }
        },
        "6c7a27c883cb4f94b66e2dc8ad81083b": {
          "model_module": "@jupyter-widgets/controls",
          "model_name": "ProgressStyleModel",
          "model_module_version": "1.5.0",
          "state": {
            "_model_module": "@jupyter-widgets/controls",
            "_model_module_version": "1.5.0",
            "_model_name": "ProgressStyleModel",
            "_view_count": null,
            "_view_module": "@jupyter-widgets/base",
            "_view_module_version": "1.2.0",
            "_view_name": "StyleView",
            "bar_color": null,
            "description_width": ""
          }
        },
        "c74c51a3c35d483098040211f4c1836e": {
          "model_module": "@jupyter-widgets/base",
          "model_name": "LayoutModel",
          "model_module_version": "1.2.0",
          "state": {
            "_model_module": "@jupyter-widgets/base",
            "_model_module_version": "1.2.0",
            "_model_name": "LayoutModel",
            "_view_count": null,
            "_view_module": "@jupyter-widgets/base",
            "_view_module_version": "1.2.0",
            "_view_name": "LayoutView",
            "align_content": null,
            "align_items": null,
            "align_self": null,
            "border": null,
            "bottom": null,
            "display": null,
            "flex": null,
            "flex_flow": null,
            "grid_area": null,
            "grid_auto_columns": null,
            "grid_auto_flow": null,
            "grid_auto_rows": null,
            "grid_column": null,
            "grid_gap": null,
            "grid_row": null,
            "grid_template_areas": null,
            "grid_template_columns": null,
            "grid_template_rows": null,
            "height": null,
            "justify_content": null,
            "justify_items": null,
            "left": null,
            "margin": null,
            "max_height": null,
            "max_width": null,
            "min_height": null,
            "min_width": null,
            "object_fit": null,
            "object_position": null,
            "order": null,
            "overflow": null,
            "overflow_x": null,
            "overflow_y": null,
            "padding": null,
            "right": null,
            "top": null,
            "visibility": null,
            "width": null
          }
        },
        "bb56cadde62d4a7a87317c688ffad6af": {
          "model_module": "@jupyter-widgets/controls",
          "model_name": "DescriptionStyleModel",
          "model_module_version": "1.5.0",
          "state": {
            "_model_module": "@jupyter-widgets/controls",
            "_model_module_version": "1.5.0",
            "_model_name": "DescriptionStyleModel",
            "_view_count": null,
            "_view_module": "@jupyter-widgets/base",
            "_view_module_version": "1.2.0",
            "_view_name": "StyleView",
            "description_width": ""
          }
        },
        "6bb77d5b676c4ccf9633a5bf58a0ff4f": {
          "model_module": "@jupyter-widgets/controls",
          "model_name": "HBoxModel",
          "model_module_version": "1.5.0",
          "state": {
            "_dom_classes": [],
            "_model_module": "@jupyter-widgets/controls",
            "_model_module_version": "1.5.0",
            "_model_name": "HBoxModel",
            "_view_count": null,
            "_view_module": "@jupyter-widgets/controls",
            "_view_module_version": "1.5.0",
            "_view_name": "HBoxView",
            "box_style": "",
            "children": [
              "IPY_MODEL_352917c8efd44156b27f470e93aef7e1",
              "IPY_MODEL_c5010821baa34c15a21e8b709dbf1e83",
              "IPY_MODEL_0e11b2204483439b913fd1caf3d940ba"
            ],
            "layout": "IPY_MODEL_2b1bd02a220646d294ca2ccb90ffacc8"
          }
        },
        "352917c8efd44156b27f470e93aef7e1": {
          "model_module": "@jupyter-widgets/controls",
          "model_name": "HTMLModel",
          "model_module_version": "1.5.0",
          "state": {
            "_dom_classes": [],
            "_model_module": "@jupyter-widgets/controls",
            "_model_module_version": "1.5.0",
            "_model_name": "HTMLModel",
            "_view_count": null,
            "_view_module": "@jupyter-widgets/controls",
            "_view_module_version": "1.5.0",
            "_view_name": "HTMLView",
            "description": "",
            "description_tooltip": null,
            "layout": "IPY_MODEL_0cd449e15a964f42b910985827fc3955",
            "placeholder": "​",
            "style": "IPY_MODEL_dc30351f708c44389417faddde028bb1",
            "value": "tokenizer.json: 100%"
          }
        },
        "c5010821baa34c15a21e8b709dbf1e83": {
          "model_module": "@jupyter-widgets/controls",
          "model_name": "FloatProgressModel",
          "model_module_version": "1.5.0",
          "state": {
            "_dom_classes": [],
            "_model_module": "@jupyter-widgets/controls",
            "_model_module_version": "1.5.0",
            "_model_name": "FloatProgressModel",
            "_view_count": null,
            "_view_module": "@jupyter-widgets/controls",
            "_view_module_version": "1.5.0",
            "_view_name": "ProgressView",
            "bar_style": "success",
            "description": "",
            "description_tooltip": null,
            "layout": "IPY_MODEL_822549c4020048b1b4b3584dbdb220d4",
            "max": 466062,
            "min": 0,
            "orientation": "horizontal",
            "style": "IPY_MODEL_c05feb2ec10c4d3aa089e4a90857ee50",
            "value": 466062
          }
        },
        "0e11b2204483439b913fd1caf3d940ba": {
          "model_module": "@jupyter-widgets/controls",
          "model_name": "HTMLModel",
          "model_module_version": "1.5.0",
          "state": {
            "_dom_classes": [],
            "_model_module": "@jupyter-widgets/controls",
            "_model_module_version": "1.5.0",
            "_model_name": "HTMLModel",
            "_view_count": null,
            "_view_module": "@jupyter-widgets/controls",
            "_view_module_version": "1.5.0",
            "_view_name": "HTMLView",
            "description": "",
            "description_tooltip": null,
            "layout": "IPY_MODEL_33b94bcfd55b49048f7856c619c95fea",
            "placeholder": "​",
            "style": "IPY_MODEL_223057d67f19415095d0c04393b2f050",
            "value": " 466k/466k [00:00&lt;00:00, 19.5MB/s]"
          }
        },
        "2b1bd02a220646d294ca2ccb90ffacc8": {
          "model_module": "@jupyter-widgets/base",
          "model_name": "LayoutModel",
          "model_module_version": "1.2.0",
          "state": {
            "_model_module": "@jupyter-widgets/base",
            "_model_module_version": "1.2.0",
            "_model_name": "LayoutModel",
            "_view_count": null,
            "_view_module": "@jupyter-widgets/base",
            "_view_module_version": "1.2.0",
            "_view_name": "LayoutView",
            "align_content": null,
            "align_items": null,
            "align_self": null,
            "border": null,
            "bottom": null,
            "display": null,
            "flex": null,
            "flex_flow": null,
            "grid_area": null,
            "grid_auto_columns": null,
            "grid_auto_flow": null,
            "grid_auto_rows": null,
            "grid_column": null,
            "grid_gap": null,
            "grid_row": null,
            "grid_template_areas": null,
            "grid_template_columns": null,
            "grid_template_rows": null,
            "height": null,
            "justify_content": null,
            "justify_items": null,
            "left": null,
            "margin": null,
            "max_height": null,
            "max_width": null,
            "min_height": null,
            "min_width": null,
            "object_fit": null,
            "object_position": null,
            "order": null,
            "overflow": null,
            "overflow_x": null,
            "overflow_y": null,
            "padding": null,
            "right": null,
            "top": null,
            "visibility": null,
            "width": null
          }
        },
        "0cd449e15a964f42b910985827fc3955": {
          "model_module": "@jupyter-widgets/base",
          "model_name": "LayoutModel",
          "model_module_version": "1.2.0",
          "state": {
            "_model_module": "@jupyter-widgets/base",
            "_model_module_version": "1.2.0",
            "_model_name": "LayoutModel",
            "_view_count": null,
            "_view_module": "@jupyter-widgets/base",
            "_view_module_version": "1.2.0",
            "_view_name": "LayoutView",
            "align_content": null,
            "align_items": null,
            "align_self": null,
            "border": null,
            "bottom": null,
            "display": null,
            "flex": null,
            "flex_flow": null,
            "grid_area": null,
            "grid_auto_columns": null,
            "grid_auto_flow": null,
            "grid_auto_rows": null,
            "grid_column": null,
            "grid_gap": null,
            "grid_row": null,
            "grid_template_areas": null,
            "grid_template_columns": null,
            "grid_template_rows": null,
            "height": null,
            "justify_content": null,
            "justify_items": null,
            "left": null,
            "margin": null,
            "max_height": null,
            "max_width": null,
            "min_height": null,
            "min_width": null,
            "object_fit": null,
            "object_position": null,
            "order": null,
            "overflow": null,
            "overflow_x": null,
            "overflow_y": null,
            "padding": null,
            "right": null,
            "top": null,
            "visibility": null,
            "width": null
          }
        },
        "dc30351f708c44389417faddde028bb1": {
          "model_module": "@jupyter-widgets/controls",
          "model_name": "DescriptionStyleModel",
          "model_module_version": "1.5.0",
          "state": {
            "_model_module": "@jupyter-widgets/controls",
            "_model_module_version": "1.5.0",
            "_model_name": "DescriptionStyleModel",
            "_view_count": null,
            "_view_module": "@jupyter-widgets/base",
            "_view_module_version": "1.2.0",
            "_view_name": "StyleView",
            "description_width": ""
          }
        },
        "822549c4020048b1b4b3584dbdb220d4": {
          "model_module": "@jupyter-widgets/base",
          "model_name": "LayoutModel",
          "model_module_version": "1.2.0",
          "state": {
            "_model_module": "@jupyter-widgets/base",
            "_model_module_version": "1.2.0",
            "_model_name": "LayoutModel",
            "_view_count": null,
            "_view_module": "@jupyter-widgets/base",
            "_view_module_version": "1.2.0",
            "_view_name": "LayoutView",
            "align_content": null,
            "align_items": null,
            "align_self": null,
            "border": null,
            "bottom": null,
            "display": null,
            "flex": null,
            "flex_flow": null,
            "grid_area": null,
            "grid_auto_columns": null,
            "grid_auto_flow": null,
            "grid_auto_rows": null,
            "grid_column": null,
            "grid_gap": null,
            "grid_row": null,
            "grid_template_areas": null,
            "grid_template_columns": null,
            "grid_template_rows": null,
            "height": null,
            "justify_content": null,
            "justify_items": null,
            "left": null,
            "margin": null,
            "max_height": null,
            "max_width": null,
            "min_height": null,
            "min_width": null,
            "object_fit": null,
            "object_position": null,
            "order": null,
            "overflow": null,
            "overflow_x": null,
            "overflow_y": null,
            "padding": null,
            "right": null,
            "top": null,
            "visibility": null,
            "width": null
          }
        },
        "c05feb2ec10c4d3aa089e4a90857ee50": {
          "model_module": "@jupyter-widgets/controls",
          "model_name": "ProgressStyleModel",
          "model_module_version": "1.5.0",
          "state": {
            "_model_module": "@jupyter-widgets/controls",
            "_model_module_version": "1.5.0",
            "_model_name": "ProgressStyleModel",
            "_view_count": null,
            "_view_module": "@jupyter-widgets/base",
            "_view_module_version": "1.2.0",
            "_view_name": "StyleView",
            "bar_color": null,
            "description_width": ""
          }
        },
        "33b94bcfd55b49048f7856c619c95fea": {
          "model_module": "@jupyter-widgets/base",
          "model_name": "LayoutModel",
          "model_module_version": "1.2.0",
          "state": {
            "_model_module": "@jupyter-widgets/base",
            "_model_module_version": "1.2.0",
            "_model_name": "LayoutModel",
            "_view_count": null,
            "_view_module": "@jupyter-widgets/base",
            "_view_module_version": "1.2.0",
            "_view_name": "LayoutView",
            "align_content": null,
            "align_items": null,
            "align_self": null,
            "border": null,
            "bottom": null,
            "display": null,
            "flex": null,
            "flex_flow": null,
            "grid_area": null,
            "grid_auto_columns": null,
            "grid_auto_flow": null,
            "grid_auto_rows": null,
            "grid_column": null,
            "grid_gap": null,
            "grid_row": null,
            "grid_template_areas": null,
            "grid_template_columns": null,
            "grid_template_rows": null,
            "height": null,
            "justify_content": null,
            "justify_items": null,
            "left": null,
            "margin": null,
            "max_height": null,
            "max_width": null,
            "min_height": null,
            "min_width": null,
            "object_fit": null,
            "object_position": null,
            "order": null,
            "overflow": null,
            "overflow_x": null,
            "overflow_y": null,
            "padding": null,
            "right": null,
            "top": null,
            "visibility": null,
            "width": null
          }
        },
        "223057d67f19415095d0c04393b2f050": {
          "model_module": "@jupyter-widgets/controls",
          "model_name": "DescriptionStyleModel",
          "model_module_version": "1.5.0",
          "state": {
            "_model_module": "@jupyter-widgets/controls",
            "_model_module_version": "1.5.0",
            "_model_name": "DescriptionStyleModel",
            "_view_count": null,
            "_view_module": "@jupyter-widgets/base",
            "_view_module_version": "1.2.0",
            "_view_name": "StyleView",
            "description_width": ""
          }
        },
        "027cab67bf254f3d9b61634091f90f27": {
          "model_module": "@jupyter-widgets/controls",
          "model_name": "HBoxModel",
          "model_module_version": "1.5.0",
          "state": {
            "_dom_classes": [],
            "_model_module": "@jupyter-widgets/controls",
            "_model_module_version": "1.5.0",
            "_model_name": "HBoxModel",
            "_view_count": null,
            "_view_module": "@jupyter-widgets/controls",
            "_view_module_version": "1.5.0",
            "_view_name": "HBoxView",
            "box_style": "",
            "children": [
              "IPY_MODEL_f0838d3a67244e51bdc35c70d5f02154",
              "IPY_MODEL_47122d04235f45bd9308c686d6426b41",
              "IPY_MODEL_33f4ed09d77141348daaa4951e03191e"
            ],
            "layout": "IPY_MODEL_79238807c1c94ac1bd135e28acc1c8fd"
          }
        },
        "f0838d3a67244e51bdc35c70d5f02154": {
          "model_module": "@jupyter-widgets/controls",
          "model_name": "HTMLModel",
          "model_module_version": "1.5.0",
          "state": {
            "_dom_classes": [],
            "_model_module": "@jupyter-widgets/controls",
            "_model_module_version": "1.5.0",
            "_model_name": "HTMLModel",
            "_view_count": null,
            "_view_module": "@jupyter-widgets/controls",
            "_view_module_version": "1.5.0",
            "_view_name": "HTMLView",
            "description": "",
            "description_tooltip": null,
            "layout": "IPY_MODEL_c36d020ab5da4b6eae1263d67d82416f",
            "placeholder": "​",
            "style": "IPY_MODEL_5dad288920ad488ca6d933d71fd0e8c7",
            "value": "config.json: 100%"
          }
        },
        "47122d04235f45bd9308c686d6426b41": {
          "model_module": "@jupyter-widgets/controls",
          "model_name": "FloatProgressModel",
          "model_module_version": "1.5.0",
          "state": {
            "_dom_classes": [],
            "_model_module": "@jupyter-widgets/controls",
            "_model_module_version": "1.5.0",
            "_model_name": "FloatProgressModel",
            "_view_count": null,
            "_view_module": "@jupyter-widgets/controls",
            "_view_module_version": "1.5.0",
            "_view_name": "ProgressView",
            "bar_style": "success",
            "description": "",
            "description_tooltip": null,
            "layout": "IPY_MODEL_50b9606f5be3492f8b57d63832a86179",
            "max": 570,
            "min": 0,
            "orientation": "horizontal",
            "style": "IPY_MODEL_a3108ef2c0e64ce29354fa797b1ef609",
            "value": 570
          }
        },
        "33f4ed09d77141348daaa4951e03191e": {
          "model_module": "@jupyter-widgets/controls",
          "model_name": "HTMLModel",
          "model_module_version": "1.5.0",
          "state": {
            "_dom_classes": [],
            "_model_module": "@jupyter-widgets/controls",
            "_model_module_version": "1.5.0",
            "_model_name": "HTMLModel",
            "_view_count": null,
            "_view_module": "@jupyter-widgets/controls",
            "_view_module_version": "1.5.0",
            "_view_name": "HTMLView",
            "description": "",
            "description_tooltip": null,
            "layout": "IPY_MODEL_c408f34e746341d1b295baad10e1e439",
            "placeholder": "​",
            "style": "IPY_MODEL_48aeb5e2d0b3498f956251e58dcde831",
            "value": " 570/570 [00:00&lt;00:00, 82.6kB/s]"
          }
        },
        "79238807c1c94ac1bd135e28acc1c8fd": {
          "model_module": "@jupyter-widgets/base",
          "model_name": "LayoutModel",
          "model_module_version": "1.2.0",
          "state": {
            "_model_module": "@jupyter-widgets/base",
            "_model_module_version": "1.2.0",
            "_model_name": "LayoutModel",
            "_view_count": null,
            "_view_module": "@jupyter-widgets/base",
            "_view_module_version": "1.2.0",
            "_view_name": "LayoutView",
            "align_content": null,
            "align_items": null,
            "align_self": null,
            "border": null,
            "bottom": null,
            "display": null,
            "flex": null,
            "flex_flow": null,
            "grid_area": null,
            "grid_auto_columns": null,
            "grid_auto_flow": null,
            "grid_auto_rows": null,
            "grid_column": null,
            "grid_gap": null,
            "grid_row": null,
            "grid_template_areas": null,
            "grid_template_columns": null,
            "grid_template_rows": null,
            "height": null,
            "justify_content": null,
            "justify_items": null,
            "left": null,
            "margin": null,
            "max_height": null,
            "max_width": null,
            "min_height": null,
            "min_width": null,
            "object_fit": null,
            "object_position": null,
            "order": null,
            "overflow": null,
            "overflow_x": null,
            "overflow_y": null,
            "padding": null,
            "right": null,
            "top": null,
            "visibility": null,
            "width": null
          }
        },
        "c36d020ab5da4b6eae1263d67d82416f": {
          "model_module": "@jupyter-widgets/base",
          "model_name": "LayoutModel",
          "model_module_version": "1.2.0",
          "state": {
            "_model_module": "@jupyter-widgets/base",
            "_model_module_version": "1.2.0",
            "_model_name": "LayoutModel",
            "_view_count": null,
            "_view_module": "@jupyter-widgets/base",
            "_view_module_version": "1.2.0",
            "_view_name": "LayoutView",
            "align_content": null,
            "align_items": null,
            "align_self": null,
            "border": null,
            "bottom": null,
            "display": null,
            "flex": null,
            "flex_flow": null,
            "grid_area": null,
            "grid_auto_columns": null,
            "grid_auto_flow": null,
            "grid_auto_rows": null,
            "grid_column": null,
            "grid_gap": null,
            "grid_row": null,
            "grid_template_areas": null,
            "grid_template_columns": null,
            "grid_template_rows": null,
            "height": null,
            "justify_content": null,
            "justify_items": null,
            "left": null,
            "margin": null,
            "max_height": null,
            "max_width": null,
            "min_height": null,
            "min_width": null,
            "object_fit": null,
            "object_position": null,
            "order": null,
            "overflow": null,
            "overflow_x": null,
            "overflow_y": null,
            "padding": null,
            "right": null,
            "top": null,
            "visibility": null,
            "width": null
          }
        },
        "5dad288920ad488ca6d933d71fd0e8c7": {
          "model_module": "@jupyter-widgets/controls",
          "model_name": "DescriptionStyleModel",
          "model_module_version": "1.5.0",
          "state": {
            "_model_module": "@jupyter-widgets/controls",
            "_model_module_version": "1.5.0",
            "_model_name": "DescriptionStyleModel",
            "_view_count": null,
            "_view_module": "@jupyter-widgets/base",
            "_view_module_version": "1.2.0",
            "_view_name": "StyleView",
            "description_width": ""
          }
        },
        "50b9606f5be3492f8b57d63832a86179": {
          "model_module": "@jupyter-widgets/base",
          "model_name": "LayoutModel",
          "model_module_version": "1.2.0",
          "state": {
            "_model_module": "@jupyter-widgets/base",
            "_model_module_version": "1.2.0",
            "_model_name": "LayoutModel",
            "_view_count": null,
            "_view_module": "@jupyter-widgets/base",
            "_view_module_version": "1.2.0",
            "_view_name": "LayoutView",
            "align_content": null,
            "align_items": null,
            "align_self": null,
            "border": null,
            "bottom": null,
            "display": null,
            "flex": null,
            "flex_flow": null,
            "grid_area": null,
            "grid_auto_columns": null,
            "grid_auto_flow": null,
            "grid_auto_rows": null,
            "grid_column": null,
            "grid_gap": null,
            "grid_row": null,
            "grid_template_areas": null,
            "grid_template_columns": null,
            "grid_template_rows": null,
            "height": null,
            "justify_content": null,
            "justify_items": null,
            "left": null,
            "margin": null,
            "max_height": null,
            "max_width": null,
            "min_height": null,
            "min_width": null,
            "object_fit": null,
            "object_position": null,
            "order": null,
            "overflow": null,
            "overflow_x": null,
            "overflow_y": null,
            "padding": null,
            "right": null,
            "top": null,
            "visibility": null,
            "width": null
          }
        },
        "a3108ef2c0e64ce29354fa797b1ef609": {
          "model_module": "@jupyter-widgets/controls",
          "model_name": "ProgressStyleModel",
          "model_module_version": "1.5.0",
          "state": {
            "_model_module": "@jupyter-widgets/controls",
            "_model_module_version": "1.5.0",
            "_model_name": "ProgressStyleModel",
            "_view_count": null,
            "_view_module": "@jupyter-widgets/base",
            "_view_module_version": "1.2.0",
            "_view_name": "StyleView",
            "bar_color": null,
            "description_width": ""
          }
        },
        "c408f34e746341d1b295baad10e1e439": {
          "model_module": "@jupyter-widgets/base",
          "model_name": "LayoutModel",
          "model_module_version": "1.2.0",
          "state": {
            "_model_module": "@jupyter-widgets/base",
            "_model_module_version": "1.2.0",
            "_model_name": "LayoutModel",
            "_view_count": null,
            "_view_module": "@jupyter-widgets/base",
            "_view_module_version": "1.2.0",
            "_view_name": "LayoutView",
            "align_content": null,
            "align_items": null,
            "align_self": null,
            "border": null,
            "bottom": null,
            "display": null,
            "flex": null,
            "flex_flow": null,
            "grid_area": null,
            "grid_auto_columns": null,
            "grid_auto_flow": null,
            "grid_auto_rows": null,
            "grid_column": null,
            "grid_gap": null,
            "grid_row": null,
            "grid_template_areas": null,
            "grid_template_columns": null,
            "grid_template_rows": null,
            "height": null,
            "justify_content": null,
            "justify_items": null,
            "left": null,
            "margin": null,
            "max_height": null,
            "max_width": null,
            "min_height": null,
            "min_width": null,
            "object_fit": null,
            "object_position": null,
            "order": null,
            "overflow": null,
            "overflow_x": null,
            "overflow_y": null,
            "padding": null,
            "right": null,
            "top": null,
            "visibility": null,
            "width": null
          }
        },
        "48aeb5e2d0b3498f956251e58dcde831": {
          "model_module": "@jupyter-widgets/controls",
          "model_name": "DescriptionStyleModel",
          "model_module_version": "1.5.0",
          "state": {
            "_model_module": "@jupyter-widgets/controls",
            "_model_module_version": "1.5.0",
            "_model_name": "DescriptionStyleModel",
            "_view_count": null,
            "_view_module": "@jupyter-widgets/base",
            "_view_module_version": "1.2.0",
            "_view_name": "StyleView",
            "description_width": ""
          }
        },
        "065a14e56ac0499ba2fcc168bf5ddeab": {
          "model_module": "@jupyter-widgets/controls",
          "model_name": "HBoxModel",
          "model_module_version": "1.5.0",
          "state": {
            "_dom_classes": [],
            "_model_module": "@jupyter-widgets/controls",
            "_model_module_version": "1.5.0",
            "_model_name": "HBoxModel",
            "_view_count": null,
            "_view_module": "@jupyter-widgets/controls",
            "_view_module_version": "1.5.0",
            "_view_name": "HBoxView",
            "box_style": "",
            "children": [
              "IPY_MODEL_59a46e9547174c459cf160ea119078a5",
              "IPY_MODEL_9c431521246b43ca8a01c47fd96c0b02",
              "IPY_MODEL_87a697d55b9649a6991ef1932097afbe"
            ],
            "layout": "IPY_MODEL_4f47bd30ca034b11983480b2e428fe5d"
          }
        },
        "59a46e9547174c459cf160ea119078a5": {
          "model_module": "@jupyter-widgets/controls",
          "model_name": "HTMLModel",
          "model_module_version": "1.5.0",
          "state": {
            "_dom_classes": [],
            "_model_module": "@jupyter-widgets/controls",
            "_model_module_version": "1.5.0",
            "_model_name": "HTMLModel",
            "_view_count": null,
            "_view_module": "@jupyter-widgets/controls",
            "_view_module_version": "1.5.0",
            "_view_name": "HTMLView",
            "description": "",
            "description_tooltip": null,
            "layout": "IPY_MODEL_d6939b3e0f3e4730be6d5246c9f9f923",
            "placeholder": "​",
            "style": "IPY_MODEL_9b148dec6fa942da91fb6d9e64c499aa",
            "value": "model.safetensors: 100%"
          }
        },
        "9c431521246b43ca8a01c47fd96c0b02": {
          "model_module": "@jupyter-widgets/controls",
          "model_name": "FloatProgressModel",
          "model_module_version": "1.5.0",
          "state": {
            "_dom_classes": [],
            "_model_module": "@jupyter-widgets/controls",
            "_model_module_version": "1.5.0",
            "_model_name": "FloatProgressModel",
            "_view_count": null,
            "_view_module": "@jupyter-widgets/controls",
            "_view_module_version": "1.5.0",
            "_view_name": "ProgressView",
            "bar_style": "success",
            "description": "",
            "description_tooltip": null,
            "layout": "IPY_MODEL_d18f9b671b2e4577a21ac81c66aaf338",
            "max": 440449768,
            "min": 0,
            "orientation": "horizontal",
            "style": "IPY_MODEL_9544225a83864e43ab0e0ce1c880c5b3",
            "value": 440449768
          }
        },
        "87a697d55b9649a6991ef1932097afbe": {
          "model_module": "@jupyter-widgets/controls",
          "model_name": "HTMLModel",
          "model_module_version": "1.5.0",
          "state": {
            "_dom_classes": [],
            "_model_module": "@jupyter-widgets/controls",
            "_model_module_version": "1.5.0",
            "_model_name": "HTMLModel",
            "_view_count": null,
            "_view_module": "@jupyter-widgets/controls",
            "_view_module_version": "1.5.0",
            "_view_name": "HTMLView",
            "description": "",
            "description_tooltip": null,
            "layout": "IPY_MODEL_c9eb98df795a432f809c2f23dde7bce2",
            "placeholder": "​",
            "style": "IPY_MODEL_2155cf4f2675440581fce1916876292d",
            "value": " 440M/440M [00:01&lt;00:00, 266MB/s]"
          }
        },
        "4f47bd30ca034b11983480b2e428fe5d": {
          "model_module": "@jupyter-widgets/base",
          "model_name": "LayoutModel",
          "model_module_version": "1.2.0",
          "state": {
            "_model_module": "@jupyter-widgets/base",
            "_model_module_version": "1.2.0",
            "_model_name": "LayoutModel",
            "_view_count": null,
            "_view_module": "@jupyter-widgets/base",
            "_view_module_version": "1.2.0",
            "_view_name": "LayoutView",
            "align_content": null,
            "align_items": null,
            "align_self": null,
            "border": null,
            "bottom": null,
            "display": null,
            "flex": null,
            "flex_flow": null,
            "grid_area": null,
            "grid_auto_columns": null,
            "grid_auto_flow": null,
            "grid_auto_rows": null,
            "grid_column": null,
            "grid_gap": null,
            "grid_row": null,
            "grid_template_areas": null,
            "grid_template_columns": null,
            "grid_template_rows": null,
            "height": null,
            "justify_content": null,
            "justify_items": null,
            "left": null,
            "margin": null,
            "max_height": null,
            "max_width": null,
            "min_height": null,
            "min_width": null,
            "object_fit": null,
            "object_position": null,
            "order": null,
            "overflow": null,
            "overflow_x": null,
            "overflow_y": null,
            "padding": null,
            "right": null,
            "top": null,
            "visibility": null,
            "width": null
          }
        },
        "d6939b3e0f3e4730be6d5246c9f9f923": {
          "model_module": "@jupyter-widgets/base",
          "model_name": "LayoutModel",
          "model_module_version": "1.2.0",
          "state": {
            "_model_module": "@jupyter-widgets/base",
            "_model_module_version": "1.2.0",
            "_model_name": "LayoutModel",
            "_view_count": null,
            "_view_module": "@jupyter-widgets/base",
            "_view_module_version": "1.2.0",
            "_view_name": "LayoutView",
            "align_content": null,
            "align_items": null,
            "align_self": null,
            "border": null,
            "bottom": null,
            "display": null,
            "flex": null,
            "flex_flow": null,
            "grid_area": null,
            "grid_auto_columns": null,
            "grid_auto_flow": null,
            "grid_auto_rows": null,
            "grid_column": null,
            "grid_gap": null,
            "grid_row": null,
            "grid_template_areas": null,
            "grid_template_columns": null,
            "grid_template_rows": null,
            "height": null,
            "justify_content": null,
            "justify_items": null,
            "left": null,
            "margin": null,
            "max_height": null,
            "max_width": null,
            "min_height": null,
            "min_width": null,
            "object_fit": null,
            "object_position": null,
            "order": null,
            "overflow": null,
            "overflow_x": null,
            "overflow_y": null,
            "padding": null,
            "right": null,
            "top": null,
            "visibility": null,
            "width": null
          }
        },
        "9b148dec6fa942da91fb6d9e64c499aa": {
          "model_module": "@jupyter-widgets/controls",
          "model_name": "DescriptionStyleModel",
          "model_module_version": "1.5.0",
          "state": {
            "_model_module": "@jupyter-widgets/controls",
            "_model_module_version": "1.5.0",
            "_model_name": "DescriptionStyleModel",
            "_view_count": null,
            "_view_module": "@jupyter-widgets/base",
            "_view_module_version": "1.2.0",
            "_view_name": "StyleView",
            "description_width": ""
          }
        },
        "d18f9b671b2e4577a21ac81c66aaf338": {
          "model_module": "@jupyter-widgets/base",
          "model_name": "LayoutModel",
          "model_module_version": "1.2.0",
          "state": {
            "_model_module": "@jupyter-widgets/base",
            "_model_module_version": "1.2.0",
            "_model_name": "LayoutModel",
            "_view_count": null,
            "_view_module": "@jupyter-widgets/base",
            "_view_module_version": "1.2.0",
            "_view_name": "LayoutView",
            "align_content": null,
            "align_items": null,
            "align_self": null,
            "border": null,
            "bottom": null,
            "display": null,
            "flex": null,
            "flex_flow": null,
            "grid_area": null,
            "grid_auto_columns": null,
            "grid_auto_flow": null,
            "grid_auto_rows": null,
            "grid_column": null,
            "grid_gap": null,
            "grid_row": null,
            "grid_template_areas": null,
            "grid_template_columns": null,
            "grid_template_rows": null,
            "height": null,
            "justify_content": null,
            "justify_items": null,
            "left": null,
            "margin": null,
            "max_height": null,
            "max_width": null,
            "min_height": null,
            "min_width": null,
            "object_fit": null,
            "object_position": null,
            "order": null,
            "overflow": null,
            "overflow_x": null,
            "overflow_y": null,
            "padding": null,
            "right": null,
            "top": null,
            "visibility": null,
            "width": null
          }
        },
        "9544225a83864e43ab0e0ce1c880c5b3": {
          "model_module": "@jupyter-widgets/controls",
          "model_name": "ProgressStyleModel",
          "model_module_version": "1.5.0",
          "state": {
            "_model_module": "@jupyter-widgets/controls",
            "_model_module_version": "1.5.0",
            "_model_name": "ProgressStyleModel",
            "_view_count": null,
            "_view_module": "@jupyter-widgets/base",
            "_view_module_version": "1.2.0",
            "_view_name": "StyleView",
            "bar_color": null,
            "description_width": ""
          }
        },
        "c9eb98df795a432f809c2f23dde7bce2": {
          "model_module": "@jupyter-widgets/base",
          "model_name": "LayoutModel",
          "model_module_version": "1.2.0",
          "state": {
            "_model_module": "@jupyter-widgets/base",
            "_model_module_version": "1.2.0",
            "_model_name": "LayoutModel",
            "_view_count": null,
            "_view_module": "@jupyter-widgets/base",
            "_view_module_version": "1.2.0",
            "_view_name": "LayoutView",
            "align_content": null,
            "align_items": null,
            "align_self": null,
            "border": null,
            "bottom": null,
            "display": null,
            "flex": null,
            "flex_flow": null,
            "grid_area": null,
            "grid_auto_columns": null,
            "grid_auto_flow": null,
            "grid_auto_rows": null,
            "grid_column": null,
            "grid_gap": null,
            "grid_row": null,
            "grid_template_areas": null,
            "grid_template_columns": null,
            "grid_template_rows": null,
            "height": null,
            "justify_content": null,
            "justify_items": null,
            "left": null,
            "margin": null,
            "max_height": null,
            "max_width": null,
            "min_height": null,
            "min_width": null,
            "object_fit": null,
            "object_position": null,
            "order": null,
            "overflow": null,
            "overflow_x": null,
            "overflow_y": null,
            "padding": null,
            "right": null,
            "top": null,
            "visibility": null,
            "width": null
          }
        },
        "2155cf4f2675440581fce1916876292d": {
          "model_module": "@jupyter-widgets/controls",
          "model_name": "DescriptionStyleModel",
          "model_module_version": "1.5.0",
          "state": {
            "_model_module": "@jupyter-widgets/controls",
            "_model_module_version": "1.5.0",
            "_model_name": "DescriptionStyleModel",
            "_view_count": null,
            "_view_module": "@jupyter-widgets/base",
            "_view_module_version": "1.2.0",
            "_view_name": "StyleView",
            "description_width": ""
          }
        }
      }
    }
  },
  "nbformat": 4,
  "nbformat_minor": 0
}